{
 "cells": [
  {
   "cell_type": "markdown",
   "metadata": {},
   "source": [
    "## Series"
   ]
  },
  {
   "cell_type": "markdown",
   "metadata": {},
   "source": [
    "Series objects are 1-D. Each object has its own associated index"
   ]
  },
  {
   "cell_type": "code",
   "execution_count": 1,
   "metadata": {},
   "outputs": [
    {
     "name": "stdout",
     "output_type": "stream",
     "text": [
      "Series([], dtype: float64)\n",
      "\n",
      "Series(5):\n",
      "0    5\n",
      "dtype: int64\n",
      "\n",
      "Series with arr:\n",
      "0    1\n",
      "1    2\n",
      "2    3\n",
      "dtype: int64\n",
      "\n",
      "Upcasting:\n",
      "0    1.0\n",
      "1    2.2\n",
      "dtype: float64\n",
      "\n",
      "Using numpy arr:\n",
      "0    1.0\n",
      "1    2.0\n",
      "dtype: float32\n",
      "\n",
      "2D series:\n",
      "0    [1, 2]\n",
      "1    [3, 4]\n",
      "dtype: object\n",
      "\n"
     ]
    },
    {
     "name": "stderr",
     "output_type": "stream",
     "text": [
      "/var/folders/91/8c8gh6316j5ghhn0h0yykx500000gn/T/ipykernel_85129/722774296.py:1: DeprecationWarning: \n",
      "Pyarrow will become a required dependency of pandas in the next major release of pandas (pandas 3.0),\n",
      "(to allow more performant data types, such as the Arrow string type, and better interoperability with other libraries)\n",
      "but was not found to be installed on your system.\n",
      "If this would cause problems for you,\n",
      "please provide us feedback at https://github.com/pandas-dev/pandas/issues/54466\n",
      "        \n",
      "  import pandas as pd\n"
     ]
    }
   ],
   "source": [
    "import pandas as pd \n",
    "import numpy as np\n",
    "\n",
    "series = pd.Series(dtype=\"float64\")\n",
    "print(f\"{series}\\n\")\n",
    "\n",
    "series = pd.Series(5)\n",
    "print(f\"Series(5):\\n{series}\\n\")\n",
    "\n",
    "series = pd.Series([1, 2, 3])\n",
    "print(f\"Series with arr:\\n{series}\\n\")\n",
    "\n",
    "series = pd.Series([1, 2.2]) \n",
    "print(f\"Upcasting:\\n{series}\\n\")\n",
    "\n",
    "arr = np.array([1, 2])\n",
    "series = pd.Series(arr, dtype=np.float32)\n",
    "print(f\"Using numpy arr:\\n{series}\\n\")\n",
    "\n",
    "series = pd.Series([[1, 2], [3, 4]])\n",
    "print(f\"2D series:\\n{series}\\n\")"
   ]
  },
  {
   "cell_type": "markdown",
   "metadata": {},
   "source": [
    "### Indexing"
   ]
  },
  {
   "cell_type": "markdown",
   "metadata": {},
   "source": [
    "The default index is integers from 0 to size of elements in series - 1. But, we can also provide our custom index through **index** keyword. The values in **index** list should be a hashable type."
   ]
  },
  {
   "cell_type": "code",
   "execution_count": 2,
   "metadata": {},
   "outputs": [
    {
     "name": "stdout",
     "output_type": "stream",
     "text": [
      "Series with custom index:\n",
      "a    1\n",
      "b    2\n",
      "c    3\n",
      "dtype: int64\n",
      "\n",
      "Series with new custom index:\n",
      "a      1\n",
      "8      2\n",
      "0.3    3\n",
      "dtype: int64\n"
     ]
    }
   ],
   "source": [
    "series = pd.Series([1, 2, 3], index=[\"a\", \"b\", \"c\"])\n",
    "print(f\"Series with custom index:\\n{series}\\n\")\n",
    "\n",
    "series = pd.Series([1, 2, 3], index=[\"a\", 8, 0.3])\n",
    "print(f\"Series with new custom index:\\n{series}\")"
   ]
  },
  {
   "cell_type": "markdown",
   "metadata": {},
   "source": [
    "We can also pass in a dictionary so that the keys are used as index and the values are used as series objects"
   ]
  },
  {
   "cell_type": "code",
   "execution_count": 3,
   "metadata": {},
   "outputs": [
    {
     "name": "stdout",
     "output_type": "stream",
     "text": [
      "Series from dictionary:\n",
      "a    1\n",
      "b    2\n",
      "c    3\n",
      "dtype: int64\n",
      "\n"
     ]
    }
   ],
   "source": [
    "series = pd.Series({\"a\": 1, \"b\": 2, \"c\": 3 })\n",
    "print(f\"Series from dictionary:\\n{series}\\n\")\n"
   ]
  },
  {
   "cell_type": "code",
   "execution_count": 4,
   "metadata": {},
   "outputs": [
    {
     "name": "stdout",
     "output_type": "stream",
     "text": [
      "Dot product:\n",
      "0    10\n",
      "1    40\n",
      "2    90\n",
      "dtype: int64\n",
      "\n",
      "Scaling:\n",
      "0    10\n",
      "1    20\n",
      "2    30\n",
      "dtype: int64\n"
     ]
    }
   ],
   "source": [
    "s1 = pd.Series([1, 2, 3])\n",
    "s2 = s1 * [10, 20, 30]\n",
    "print(f\"Dot product:\\n{s2}\\n\")\n",
    "\n",
    "print(f\"Scaling:\\n{s1 * 10}\")"
   ]
  },
  {
   "cell_type": "markdown",
   "metadata": {},
   "source": [
    "## DataFrame"
   ]
  },
  {
   "cell_type": "markdown",
   "metadata": {},
   "source": [
    "One main purpose of pandas is deal with data from tables or spreadsheets, which contain rows and columns. **pandas.DataFrame** object is used to represent these data. It should be noted that a dataframe cannot be created from a scalar. DataFrame takes in additional *columns* keyword argument."
   ]
  },
  {
   "cell_type": "code",
   "execution_count": 5,
   "metadata": {},
   "outputs": [
    {
     "name": "stdout",
     "output_type": "stream",
     "text": [
      "Empty DataFrame\n",
      "Columns: []\n",
      "Index: []\n",
      "\n",
      "Dataframe with one column:\n",
      "   0\n",
      "0  5\n",
      "1  6\n",
      "\n",
      "2x2 Dataframe\n",
      ":    c1  c2\n",
      "r1   5   6\n",
      "r2   1   3\n",
      "\n",
      "Dataframe from dictionary:\n",
      "    c1  c2\n",
      "r1   1   3\n",
      "r2   2   4\n",
      "\n"
     ]
    }
   ],
   "source": [
    "df = pd.DataFrame()\n",
    "print(f\"{df}\\n\")\n",
    "\n",
    "df = pd.DataFrame([5, 6])\n",
    "print(f\"Dataframe with one column:\\n{df}\\n\")\n",
    "\n",
    "df = pd.DataFrame([[5, 6], [1, 3]], index=[\"r1\", \"r2\"], columns=[\"c1\", \"c2\"])\n",
    "print(f\"2x2 Dataframe\\n:{df}\\n\")\n",
    "\n",
    "df = pd.DataFrame({\"c1\": [1, 2], \"c2\": [3, 4]}, index=[\"r1\", \"r2\"])\n",
    "print(f\"Dataframe from dictionary:\\n{df}\\n\")"
   ]
  },
  {
   "cell_type": "markdown",
   "metadata": {},
   "source": [
    "Upcasting occurs on a per-column basis. The **dtypes** property returns the types in each column as a Series of types"
   ]
  },
  {
   "cell_type": "code",
   "execution_count": 6,
   "metadata": {},
   "outputs": [
    {
     "name": "stdout",
     "output_type": "stream",
     "text": [
      "Upcasted dataframe:\n",
      "     0  1\n",
      "0  5.0  6\n",
      "1  1.2  3\n",
      "\n",
      "0    float64\n",
      "1      int64\n",
      "dtype: object\n"
     ]
    }
   ],
   "source": [
    "upcast = pd.DataFrame([[5, 6], [1.2, 3]])\n",
    "print(f\"Upcasted dataframe:\\n{upcast}\\n\")\n",
    "\n",
    "print(upcast.dtypes)"
   ]
  },
  {
   "cell_type": "markdown",
   "metadata": {},
   "source": [
    "## Concatenating rows"
   ]
  },
  {
   "cell_type": "markdown",
   "metadata": {},
   "source": [
    "**obj.append(other)** is how additional rows are added to a given dataframe. This function returns the modified dataframe and does not change the original. We can append a Series or another dataframe. We can specify the name of the new series being added using *name* argument and by setting *ignore_index* to True, which cahnges the row labels to integer indices"
   ]
  },
  {
   "cell_type": "code",
   "execution_count": 7,
   "metadata": {},
   "outputs": [
    {
     "name": "stdout",
     "output_type": "stream",
     "text": [
      "Dataframe with appended series:\n",
      "     0    1   r3\n",
      "0  5.0  6.0  NaN\n",
      "1  1.2  3.0  NaN\n",
      "0  NaN  NaN  0.0\n",
      "1  NaN  NaN  0.0\n",
      "\n",
      "Changing indices to integers:\n",
      "     0    1\n",
      "0  5.0  6.0\n",
      "1  1.2  3.0\n",
      "2  0.0  NaN\n",
      "3  0.0  NaN\n",
      "\n",
      "Appending dataframe to another dataframe:\n",
      "     0  1\n",
      "0  5.0  6\n",
      "1  1.2  3\n",
      "0  0.0  0\n",
      "1  9.0  9\n",
      "\n"
     ]
    }
   ],
   "source": [
    "df = pd.DataFrame([[5, 6], [1.2, 3]])\n",
    "ser = pd.Series([0, 0], name=\"r3\")\n",
    "\n",
    "new_df = pd.concat([df, ser])\n",
    "print(f\"Dataframe with appended series:\\n{new_df}\\n\")\n",
    "\n",
    "new_df = pd.concat([df, ser], ignore_index=True)\n",
    "print(f\"Changing indices to integers:\\n{new_df}\\n\")\n",
    "\n",
    "df1 = pd.DataFrame([[0, 0,], [9, 9]])\n",
    "new_df = pd.concat([df, df1])\n",
    "print(f\"Appending dataframe to another dataframe:\\n{new_df}\\n\")"
   ]
  },
  {
   "cell_type": "markdown",
   "metadata": {},
   "source": [
    "## Dropping data"
   ]
  },
  {
   "cell_type": "markdown",
   "metadata": {},
   "source": [
    "The **drop** function is used to drop rows or columns from a given dataframe. There is no required argument, but there is the *lables* keyword to specify the labels of the rows or columns to drop. There is also *axis* keyword, with default value 0, used to drop rows or columns axis.\n",
    "\n",
    "You can also use *index* or *columns* to specify with labels of the rows or columns to drop directly"
   ]
  },
  {
   "cell_type": "code",
   "execution_count": 8,
   "metadata": {},
   "outputs": [
    {
     "name": "stdout",
     "output_type": "stream",
     "text": [
      "Original dataframe:\n",
      "    c1  c2  c3\n",
      "r1   1   3   5\n",
      "r2   2   4   6\n",
      "\n",
      "\n",
      "r1 dropped:\n",
      "    c1  c2  c3\n",
      "r2   2   4   6\n",
      "\n",
      "\n",
      "Droping c1 and c3:\n",
      "    c2\n",
      "r1   3\n",
      "r2   4\n",
      "\n",
      "\n",
      "Dropping row 2:\n",
      "    c1  c2  c3\n",
      "r1   1   3   5\n",
      "\n",
      "\n",
      "Dropping column 2:\n",
      "    c1  c3\n",
      "r1   1   5\n",
      "r2   2   6\n",
      "\n",
      "\n",
      "Original dataframe still remains intact:\n",
      "    c1  c2  c3\n",
      "r1   1   3   5\n",
      "r2   2   4   6\n",
      "\n",
      "\n"
     ]
    }
   ],
   "source": [
    "df = pd.DataFrame({\"c1\": [1, 2], \"c2\": [3, 4], \"c3\": [5, 6]}, index=[\"r1\", \"r2\"])\n",
    "print(f\"Original dataframe:\\n{df}\\n\\n\")\n",
    "\n",
    "df_drop = df.drop(labels=\"r1\")\n",
    "print(f\"r1 dropped:\\n{df_drop}\\n\\n\")\n",
    "\n",
    "df_drop = df.drop(labels=[\"c1\", \"c3\"], axis=1)\n",
    "print(f\"Droping c1 and c3:\\n{df_drop}\\n\\n\")\n",
    "\n",
    "df_drop = df.drop(index=\"r2\")\n",
    "print(f\"Dropping row 2:\\n{df_drop}\\n\\n\")\n",
    "\n",
    "df_drop = df.drop(columns=\"c2\")\n",
    "print(f\"Dropping column 2:\\n{df_drop}\\n\\n\")\n",
    "\n",
    "df.drop(index=\"r2\", columns=\"c2\")\n",
    "print(f\"Original dataframe still remains intact:\\n{df}\\n\\n\")"
   ]
  },
  {
   "cell_type": "markdown",
   "metadata": {},
   "source": [
    "## Merging"
   ]
  },
  {
   "cell_type": "markdown",
   "metadata": {},
   "source": [
    "We can also merge two dataframes using **pd.merge** function. This function takes in two DataFrames objects for its two required arguments. **pd.merge** joins two DataFrames using all their common column labels if no keyword is provided."
   ]
  },
  {
   "cell_type": "code",
   "execution_count": 9,
   "metadata": {},
   "outputs": [
    {
     "name": "stdout",
     "output_type": "stream",
     "text": [
      "        name pos  year\n",
      "0   john doe  1B  2000\n",
      "1  ross mike   C  2001\n",
      "2   sam blue   P  2002\n",
      "3   jane doe  2B  2003\n",
      "\n",
      "        name  year  rb1\n",
      "0   john doe  2000   80\n",
      "1  ross mike  2001  100\n",
      "2  jack chan  2005   12\n",
      "\n",
      "        name pos  year  rb1\n",
      "0   john doe  1B  2000   80\n",
      "1  ross mike   C  2001  100\n",
      "\n"
     ]
    }
   ],
   "source": [
    "mlb_df1 = pd.DataFrame({\"name\": [\"john doe\", \"ross mike\", \"sam blue\", \"jane doe\"], \n",
    "                        \"pos\": [\"1B\", \"C\", \"P\", \"2B\"],\n",
    "                        \"year\": [2000 + i for i in range(4)]})\n",
    "mlb_df2 = pd.DataFrame({\"name\": [\"john doe\", \"ross mike\", \"jack chan\"],\n",
    "                       \"year\": [2000, 2001, 2005],\n",
    "                       \"rb1\" : [80, 100, 12]})\n",
    "for df in [mlb_df1, mlb_df2]:\n",
    "  print(f\"{df}\\n\")\n",
    "\n",
    "mlb_merged = pd.merge(mlb_df1, mlb_df2)\n",
    "print(f\"{mlb_merged}\\n\")"
   ]
  },
  {
   "cell_type": "markdown",
   "metadata": {},
   "source": [
    "## Indexing"
   ]
  },
  {
   "cell_type": "markdown",
   "metadata": {},
   "source": [
    "When we index into a DataFrame, we can treat the DataFrame as a dictionary of Series object, where each column represents a Series. Each column label then becomes a key."
   ]
  },
  {
   "cell_type": "code",
   "execution_count": 12,
   "metadata": {},
   "outputs": [
    {
     "name": "stdout",
     "output_type": "stream",
     "text": [
      "Column 1:\n",
      "r1    1\n",
      "r2    2\n",
      "Name: c1, dtype: int64\n",
      "\n",
      "Column 2:\n",
      "r1    3\n",
      "r2    4\n",
      "Name: c2, dtype: int64\n",
      "\n",
      "Columns 2 and 3:\n",
      "    c2  c3\n",
      "r1   3   5\n",
      "r2   4   6\n",
      "\n"
     ]
    }
   ],
   "source": [
    "df = pd.DataFrame({\"c1\": [1, 2], \"c2\": [3, 4], \n",
    "                   \"c3\": [5, 6]}, index=[\"r1\", \"r2\"])\n",
    "\n",
    "\n",
    "print(f\"Column 1:\\n{df['c1']}\\n\")\n",
    "print(f\"Column 2:\\n{df['c2']}\\n\")\n",
    "print(f\"Columns 2 and 3:\\n{df[['c2', 'c3']]}\\n\")"
   ]
  },
  {
   "cell_type": "markdown",
   "metadata": {},
   "source": [
    "We can use direct indexing to also get a subset of the rows as a DataFrame. Rows, however, can only be retrieved based on slices. "
   ]
  },
  {
   "cell_type": "code",
   "execution_count": 14,
   "metadata": {},
   "outputs": [
    {
     "name": "stdout",
     "output_type": "stream",
     "text": [
      "Original Dataframe:\n",
      "    c1  c2  c3\n",
      "r1   1   4   7\n",
      "r2   2   5   8\n",
      "r3   3   6   9\n",
      "\n",
      "First two rows:\n",
      "    c1  c2  c3\n",
      "r1   1   4   7\n",
      "r2   2   5   8\n",
      "\n",
      "Last two rows:\n",
      "    c1  c2  c3\n",
      "r2   2   5   8\n",
      "r3   3   6   9\n",
      "\n"
     ]
    }
   ],
   "source": [
    "df = pd.DataFrame({\"c1\": [1, 2, 3], \"c2\": [4, 5, 6], \n",
    "                   \"c3\": [7, 8, 9], }, index=[\"r1\", \"r2\", \"r3\"])\n",
    "\n",
    "print(f\"Original Dataframe:\\n{df}\\n\")\n",
    "print(f\"First two rows:\\n{df[0:2]}\\n\")\n",
    "print(f\"Last two rows:\\n{df['r2': 'r3']}\\n\")\n"
   ]
  },
  {
   "cell_type": "markdown",
   "metadata": {},
   "source": [
    "There are other indexing that can be used to get DataFrame objects. There are **loc** and **iloc** properties for indexing. **iloc** is used to access rows based on their integer index. "
   ]
  },
  {
   "cell_type": "code",
   "execution_count": 15,
   "metadata": {},
   "outputs": [
    {
     "name": "stdout",
     "output_type": "stream",
     "text": [
      "Original Dataframe:\n",
      "    c1  c2  c3\n",
      "r1   1   4   7\n",
      "r2   2   5   8\n",
      "r3   3   6   9\n",
      "\n",
      "df.iloc[1]:\n",
      "c1    2\n",
      "c2    5\n",
      "c3    8\n",
      "Name: r2, dtype: int64\n",
      "\n",
      "df.iloc[[0, 2]]:\n",
      "    c1  c2  c3\n",
      "r1   1   4   7\n",
      "r3   3   6   9\n",
      "\n",
      "Using boolean list [False, True, True]:\n",
      "    c1  c2  c3\n",
      "r2   2   5   8\n",
      "r3   3   6   9\n",
      "\n"
     ]
    }
   ],
   "source": [
    "print(f\"Original Dataframe:\\n{df}\\n\")\n",
    "print(f\"df.iloc[1]:\\n{df.iloc[1]}\\n\")\n",
    "print(f\"df.iloc[[0, 2]]:\\n{df.iloc[[0, 2]]}\\n\")\n",
    "print(f\"Using boolean list [False, True, True]:\\n{df.iloc[[False, True, True]]}\\n\")"
   ]
  },
  {
   "cell_type": "markdown",
   "metadata": {},
   "source": [
    "The **loc** property has same row indexing functionality as **iloc**. It however uses row labels rather than integer indices. Again, **loc** can be used to perform column indexing along with row indexing and set new values in a DataFrame for specific rows and columns"
   ]
  },
  {
   "cell_type": "code",
   "execution_count": 16,
   "metadata": {},
   "outputs": [
    {
     "name": "stdout",
     "output_type": "stream",
     "text": [
      "Original DataFrame:\n",
      "    c1  c2  c3\n",
      "r1   1   4   7\n",
      "r2   2   5   8\n",
      "r3   3   6   9\n",
      "\n",
      "df.loc['r2']:\n",
      "c1    2\n",
      "c2    5\n",
      "c3    8\n",
      "Name: r2, dtype: int64\n",
      "\n",
      "Using boolean list:\n",
      "    c1  c2  c3\n",
      "r2   2   5   8\n",
      "r3   3   6   9\n",
      "\n",
      "Getting a single value:\n",
      "4\n",
      "\n",
      "Different rows and a column:\n",
      "r1    4\n",
      "r3    6\n",
      "Name: c2, dtype: int64\n",
      "\n",
      "Original DataFrame:\n",
      "    c1  c2  c3\n",
      "r1   1   0   7\n",
      "r2   2   5   8\n",
      "r3   3   0   9\n",
      "\n"
     ]
    }
   ],
   "source": [
    "print(f\"Original DataFrame:\\n{df}\\n\")\n",
    "print(f\"df.loc['r2']:\\n{df.loc['r2']}\\n\")\n",
    "print(f\"Using boolean list:\\n{df.loc[[False, True, True]]}\\n\")\n",
    "\n",
    "print(f\"Getting a single value:\\n{df.loc['r1', 'c2']}\\n\")\n",
    "print(f\"Different rows and a column:\\n{df.loc[['r1', 'r3'], 'c2']}\\n\")\n",
    "\n",
    "# Setting a value \n",
    "df.loc[['r1', 'r3'], 'c2'] = 0\n",
    "print(f\"Original DataFrame:\\n{df}\\n\")"
   ]
  },
  {
   "cell_type": "code",
   "execution_count": null,
   "metadata": {},
   "outputs": [],
   "source": []
  }
 ],
 "metadata": {
  "kernelspec": {
   "display_name": "Python 3",
   "language": "python",
   "name": "python3"
  },
  "language_info": {
   "codemirror_mode": {
    "name": "ipython",
    "version": 3
   },
   "file_extension": ".py",
   "mimetype": "text/x-python",
   "name": "python",
   "nbconvert_exporter": "python",
   "pygments_lexer": "ipython3",
   "version": "3.11.1"
  }
 },
 "nbformat": 4,
 "nbformat_minor": 2
}
