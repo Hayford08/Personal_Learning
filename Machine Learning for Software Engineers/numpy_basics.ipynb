{
  "cells": [
    {
      "cell_type": "markdown",
      "metadata": {},
      "source": [
        "# Numpy Basics"
      ]
    },
    {
      "cell_type": "code",
      "execution_count": 2,
      "metadata": {
        "trusted": true
      },
      "outputs": [],
      "source": [
        "import numpy as np"
      ]
    },
    {
      "cell_type": "code",
      "execution_count": 3,
      "metadata": {
        "trusted": true
      },
      "outputs": [
        {
          "name": "stdout",
          "output_type": "stream",
          "text": [
            "array([-1.,  2.,  5.], dtype=float32)\n"
          ]
        }
      ],
      "source": [
        "arr = np.array([-1, 2, 5], dtype=np.float32)\n",
        "print(repr(arr))"
      ]
    },
    {
      "cell_type": "markdown",
      "metadata": {},
      "source": [
        "Numpy arrays can take any n-d dimensions"
      ]
    },
    {
      "cell_type": "code",
      "execution_count": 4,
      "metadata": {
        "trusted": true
      },
      "outputs": [
        {
          "name": "stdout",
          "output_type": "stream",
          "text": [
            "array([[0., 1., 2.],\n",
            "       [3., 4., 5.]], dtype=float32)\n"
          ]
        }
      ],
      "source": [
        "arr = np.array([[0, 1, 2], [3, 4, 5]], dtype=np.float32)\n",
        "print(repr(arr))"
      ]
    },
    {
      "cell_type": "markdown",
      "metadata": {},
      "source": [
        "If numpy array has mixed types, the array's type will be upcast to the highest level type. i.e. int -> float. And numbers -> strings"
      ]
    },
    {
      "cell_type": "code",
      "execution_count": 5,
      "metadata": {
        "trusted": true
      },
      "outputs": [
        {
          "name": "stdout",
          "output_type": "stream",
          "text": [
            "array(['Hayford', '2', '3.0'], dtype='<U32')\n"
          ]
        }
      ],
      "source": [
        "arr = np.array([\"Hayford\", 2, 3.0])\n",
        "print(repr(arr))"
      ]
    },
    {
      "cell_type": "markdown",
      "metadata": {},
      "source": [
        "Numpy arrays are mutable. To create a new object, _copy_ is used."
      ]
    },
    {
      "cell_type": "code",
      "execution_count": 6,
      "metadata": {
        "trusted": true
      },
      "outputs": [
        {
          "name": "stdout",
          "output_type": "stream",
          "text": [
            "Array a :array([0, 1])\n",
            "Array a: array([5, 1])\n",
            "Array b: array([9, 8])\n"
          ]
        }
      ],
      "source": [
        "a = np.array([0, 1])\n",
        "b = np.array([9, 8])\n",
        "c = a\n",
        "print(f\"Array a :{repr(a)}\")\n",
        "c[0] = 5\n",
        "print(f\"Array a: {repr(a)}\")\n",
        "\n",
        "d = b.copy()\n",
        "d[0] = 6\n",
        "print(f\"Array b: {repr(b)}\")"
      ]
    },
    {
      "cell_type": "markdown",
      "metadata": {},
      "source": [
        "Casting of an array is done through __*astype*__ function. "
      ]
    },
    {
      "cell_type": "code",
      "execution_count": 7,
      "metadata": {
        "trusted": true
      },
      "outputs": [
        {
          "name": "stdout",
          "output_type": "stream",
          "text": [
            "int64\n",
            "float32\n"
          ]
        }
      ],
      "source": [
        "arr = np.array([0, 1, 2])\n",
        "print(arr.dtype)\n",
        "\n",
        "arr = arr.astype(np.float32)\n",
        "print(arr.dtype)"
      ]
    },
    {
      "cell_type": "markdown",
      "metadata": {},
      "source": [
        "To indicate that an index contains no particular value, we use **np.nan** as a placeholder."
      ]
    },
    {
      "cell_type": "code",
      "execution_count": 8,
      "metadata": {
        "trusted": true
      },
      "outputs": [
        {
          "name": "stdout",
          "output_type": "stream",
          "text": [
            "array([nan,  1.,  2.])\n",
            "array(['nan', 'abc'], dtype='<U32')\n"
          ]
        }
      ],
      "source": [
        "arr = np.array([np.nan, 1, 2])\n",
        "print(repr(arr))\n",
        "arr = np.array([np.nan, \"abc\"])\n",
        "print(repr(arr))"
      ]
    },
    {
      "cell_type": "markdown",
      "metadata": {},
      "source": [
        "If **np.nan** is used in addition to other types, the dtype specified matters"
      ]
    },
    {
      "cell_type": "code",
      "execution_count": 9,
      "metadata": {
        "trusted": true
      },
      "outputs": [
        {
          "name": "stdout",
          "output_type": "stream",
          "text": [
            "array([nan,  1.,  2.], dtype=float32)\n"
          ]
        }
      ],
      "source": [
        "# np.array([np.nan, 1, 2], dtype=np.int32)  # --> cannot convert float NaN to integer\n",
        "arr = np.array([np.nan, 1, 2], dtype=np.float32)\n",
        "print(repr(arr))"
      ]
    },
    {
      "cell_type": "markdown",
      "metadata": {},
      "source": [
        "To represent a huge number, **np.inf** is used"
      ]
    },
    {
      "cell_type": "code",
      "execution_count": 10,
      "metadata": {
        "trusted": true
      },
      "outputs": [
        {
          "name": "stdout",
          "output_type": "stream",
          "text": [
            "True\n",
            "array([inf,  5.])\n",
            "array([-inf,   1.])\n"
          ]
        }
      ],
      "source": [
        "print(np.inf > 1000000000)\n",
        "\n",
        "arr = np.array([np.inf, 5])\n",
        "print(repr(arr))\n",
        "\n",
        "arr = np.array([-np.inf, 1])\n",
        "print(repr(arr))"
      ]
    },
    {
      "cell_type": "markdown",
      "metadata": {},
      "source": [
        "np.inf is of type float.   \n",
        "The following will cause an error if uncommented out"
      ]
    },
    {
      "cell_type": "code",
      "execution_count": 11,
      "metadata": {
        "trusted": true
      },
      "outputs": [],
      "source": [
        "# np.array([np.inf, 3], dtype=np.int32) # cannot convert float infinity to integer"
      ]
    },
    {
      "cell_type": "markdown",
      "metadata": {},
      "source": [
        "Similar to range, there is **np.arange** that creates a new array with the values as the range specified"
      ]
    },
    {
      "cell_type": "code",
      "execution_count": 12,
      "metadata": {
        "trusted": true
      },
      "outputs": [
        {
          "name": "stdout",
          "output_type": "stream",
          "text": [
            "array([0, 1, 2, 3, 4])\n",
            "array([0., 1., 2., 3., 4., 5.])\n",
            "array([-1.,  0.,  1.,  2.,  3.], dtype=float32)\n",
            "array([-1.5,  0.5,  2.5])\n"
          ]
        }
      ],
      "source": [
        "arr = np.arange(5)\n",
        "print(repr(arr))\n",
        "\n",
        "arr = np.arange(5.1)\n",
        "print(repr(arr))\n",
        "\n",
        "arr = np.arange(-1, 4, dtype=np.float32)\n",
        "print(repr(arr))\n",
        "\n",
        "arr = np.arange(-1.5, 4, 2)\n",
        "print(repr(arr))"
      ]
    },
    {
      "cell_type": "markdown",
      "metadata": {},
      "source": [
        "**np.linspace** is used to specify the number of elements in the returned array, rather than the step size. Required arguments are: start and end (inclusive). There is optional argument endpoint that if set to *False*, the end is not inclusive. To specify the number of elements, we set *num* keyword argument (has default value 50). "
      ]
    },
    {
      "cell_type": "code",
      "execution_count": 18,
      "metadata": {
        "trusted": true
      },
      "outputs": [
        {
          "name": "stdout",
          "output_type": "stream",
          "text": [
            "array([ 5.        ,  5.12244898,  5.24489796,  5.36734694,  5.48979592,\n",
            "        5.6122449 ,  5.73469388,  5.85714286,  5.97959184,  6.10204082,\n",
            "        6.2244898 ,  6.34693878,  6.46938776,  6.59183673,  6.71428571,\n",
            "        6.83673469,  6.95918367,  7.08163265,  7.20408163,  7.32653061,\n",
            "        7.44897959,  7.57142857,  7.69387755,  7.81632653,  7.93877551,\n",
            "        8.06122449,  8.18367347,  8.30612245,  8.42857143,  8.55102041,\n",
            "        8.67346939,  8.79591837,  8.91836735,  9.04081633,  9.16326531,\n",
            "        9.28571429,  9.40816327,  9.53061224,  9.65306122,  9.7755102 ,\n",
            "        9.89795918, 10.02040816, 10.14285714, 10.26530612, 10.3877551 ,\n",
            "       10.51020408, 10.63265306, 10.75510204, 10.87755102, 11.        ])\n",
            "array([ 5.,  7.,  9., 11.])\n",
            "array([5. , 6.5, 8. , 9.5])\n"
          ]
        }
      ],
      "source": [
        "arr = np.linspace(5, 11)\n",
        "print(repr(arr))\n",
        "\n",
        "arr = np.linspace(5, 11, num=4)\n",
        "print(repr(arr))\n",
        "\n",
        "arr = np.linspace(5, 11, num=4, endpoint=False)\n",
        "print(repr(arr))\n",
        "\n",
        "arr = np.linspace(5, 11, num=4)"
      ]
    },
    {
      "cell_type": "markdown",
      "metadata": {
        "trusted": true
      },
      "source": [
        "Numpy arrays can also be reshaped to a different dimension using **np.reshape**, which takes in the array to be reshaped and the new dimensions as required arguments. "
      ]
    },
    {
      "cell_type": "code",
      "execution_count": 23,
      "metadata": {
        "trusted": true
      },
      "outputs": [
        {
          "name": "stdout",
          "output_type": "stream",
          "text": [
            "array([[0, 1, 2, 3],\n",
            "       [4, 5, 6, 7]])\n",
            "New shape: (2, 4)\n"
          ]
        }
      ],
      "source": [
        "arr = np.arange(8)\n",
        "\n",
        "reshaped_arr = np.reshape(arr, (2, 4))\n",
        "print(repr(reshaped_arr))\n",
        "print(f\"New shape: {reshaped_arr.shape}\")"
      ]
    },
    {
      "cell_type": "markdown",
      "metadata": {},
      "source": [
        "The shape passed in as argument can have -1 in at most one dimension to allow the new shape to contain all the elements of the array;"
      ]
    },
    {
      "cell_type": "code",
      "execution_count": 27,
      "metadata": {},
      "outputs": [
        {
          "name": "stdout",
          "output_type": "stream",
          "text": [
            "array([[[0, 1],\n",
            "        [2, 3]],\n",
            "\n",
            "       [[4, 5],\n",
            "        [6, 7]]])\n",
            "New shape: (2, 2, 2)\n"
          ]
        }
      ],
      "source": [
        "reshaped_arr = np.reshape(arr, (-1, 2, 2))\n",
        "print(repr(reshaped_arr))\n",
        "print(f\"New shape: {reshaped_arr.shape}\")"
      ]
    },
    {
      "cell_type": "markdown",
      "metadata": {},
      "source": [
        "There is also the option to flatten an array to 1D using **flatten** function."
      ]
    },
    {
      "cell_type": "code",
      "execution_count": 28,
      "metadata": {},
      "outputs": [
        {
          "name": "stdout",
          "output_type": "stream",
          "text": [
            "array([[0, 1, 2, 3],\n",
            "       [4, 5, 6, 7]])\n",
            "arr shape: (2, 4)\n",
            "array([0, 1, 2, 3, 4, 5, 6, 7])\n",
            "flattened shape: (8,)\n"
          ]
        }
      ],
      "source": [
        "arr = np.reshape(arr, (2, 4))\n",
        "flattened = arr.flatten()\n",
        "print(repr(arr))\n",
        "print(f\"arr shape: {arr.shape}\")\n",
        "\n",
        "print(repr(flattened))\n",
        "print(f\"flattened shape: {flattened.shape}\")"
      ]
    },
    {
      "cell_type": "markdown",
      "metadata": {},
      "source": [
        "There **np.transpose** to convert arr to a different format and dimensions"
      ]
    },
    {
      "cell_type": "code",
      "execution_count": 29,
      "metadata": {},
      "outputs": [
        {
          "name": "stdout",
          "output_type": "stream",
          "text": [
            "array([[0, 1],\n",
            "       [2, 3],\n",
            "       [4, 5],\n",
            "       [6, 7]])\n",
            "arr shape: (4, 2)\n",
            "array([[0, 2, 4, 6],\n",
            "       [1, 3, 5, 7]])\n",
            "transposed shape: (2, 4)\n"
          ]
        }
      ],
      "source": [
        "arr = np.reshape(arr, (4, 2))\n",
        "transposed = np.transpose(arr)\n",
        "print(repr(arr))\n",
        "print(f\"arr shape: {arr.shape}\")\n",
        "\n",
        "print(repr(transposed))\n",
        "print(f\"transposed shape: {transposed.shape}\")"
      ]
    },
    {
      "cell_type": "markdown",
      "metadata": {},
      "source": [
        "**np.transpose** has an optional argument *axes*, which represents the new permutation of the dimensions. The permutation is a list or tuple of integers. "
      ]
    },
    {
      "cell_type": "code",
      "execution_count": 32,
      "metadata": {},
      "outputs": [
        {
          "name": "stdout",
          "output_type": "stream",
          "text": [
            "arr shape: (3, 4, 2)\n",
            "array([[[ 0,  8, 16],\n",
            "        [ 1,  9, 17]],\n",
            "\n",
            "       [[ 2, 10, 18],\n",
            "        [ 3, 11, 19]],\n",
            "\n",
            "       [[ 4, 12, 20],\n",
            "        [ 5, 13, 21]],\n",
            "\n",
            "       [[ 6, 14, 22],\n",
            "        [ 7, 15, 23]]])\n",
            "transposed shape: (4, 2, 3)\n"
          ]
        }
      ],
      "source": [
        "arr = np.arange(24)\n",
        "arr = np.reshape(arr, (3 ,4, 2))\n",
        "transposed = np.transpose(arr, axes=(1, 2, 0))\n",
        "print(f\"arr shape: {arr.shape}\")\n",
        "print(repr(transposed))\n",
        "print(f\"transposed shape: {transposed.shape}\")"
      ]
    },
    {
      "cell_type": "markdown",
      "metadata": {},
      "source": [
        "Numpy provides the option to have an array fill with solely ones or zeros using **np.zeros** or **np.ones**"
      ]
    },
    {
      "cell_type": "code",
      "execution_count": 33,
      "metadata": {},
      "outputs": [
        {
          "name": "stdout",
          "output_type": "stream",
          "text": [
            "array([0., 0., 0., 0.])\n",
            "array([[1., 1., 1.],\n",
            "       [1., 1., 1.]])\n",
            "array([[1, 1, 1],\n",
            "       [1, 1, 1]], dtype=int32)\n"
          ]
        }
      ],
      "source": [
        "arr = np.zeros(4)\n",
        "print(repr(arr))\n",
        "\n",
        "arr = np.ones((2, 3))\n",
        "print(repr(arr))\n",
        "\n",
        "arr = np.ones((2, 3), dtype=np.int32)\n",
        "print(repr(arr))"
      ]
    },
    {
      "cell_type": "markdown",
      "metadata": {},
      "source": [
        "We can also create array with zeros or ones with same shape as another array using **np.zeros_like** or **np.ones_like**"
      ]
    },
    {
      "cell_type": "code",
      "execution_count": 34,
      "metadata": {},
      "outputs": [
        {
          "name": "stdout",
          "output_type": "stream",
          "text": [
            "array([[0, 0],\n",
            "       [0, 0]])\n",
            "array([[1., 1.],\n",
            "       [1., 1.]])\n",
            "array([[1, 1],\n",
            "       [1, 1]], dtype=int32)\n"
          ]
        }
      ],
      "source": [
        "arr = np.array([[1, 2], [3, 4]])\n",
        "print(repr(np.zeros_like(arr)))\n",
        "\n",
        "arr = np.array([[0., 1.], [1.2, 4.]])\n",
        "print(repr(np.ones_like(arr)))\n",
        "print(repr(np.ones_like(arr, dtype=np.int32)))"
      ]
    },
    {
      "cell_type": "markdown",
      "metadata": {},
      "source": [
        "## Numpy Math"
      ]
    },
    {
      "cell_type": "code",
      "execution_count": 36,
      "metadata": {},
      "outputs": [
        {
          "name": "stdout",
          "output_type": "stream",
          "text": [
            "array([[2, 3],\n",
            "       [4, 5]])\n",
            "array([[-0.2,  0.8],\n",
            "       [ 1.8,  2.8]])\n",
            "array([[2, 4],\n",
            "       [6, 8]])\n",
            "array([[0.5, 1. ],\n",
            "       [1.5, 2. ]])\n",
            "array([[0, 1],\n",
            "       [1, 2]])\n",
            "array([[ 1,  4],\n",
            "       [ 9, 16]])\n",
            "array([[1.        , 1.41421356],\n",
            "       [1.73205081, 2.        ]])\n"
          ]
        }
      ],
      "source": [
        "arr = np.array([[1, 2], [3, 4]])\n",
        "\n",
        "# Add 1 to every element\n",
        "print(repr(arr + 1))\n",
        "\n",
        "# Subtract 1.2 from element values\n",
        "print(repr(arr - 1.2))\n",
        "\n",
        "# Double element values \n",
        "print(repr(arr * 2))\n",
        "\n",
        "# Halve element values\n",
        "print(repr(arr / 2))\n",
        "\n",
        "# floor or integer division \n",
        "print(repr(arr // 2))\n",
        "\n",
        "# Square each element \n",
        "print(repr(arr ** 2))\n",
        "\n",
        "# square root each element\n",
        "print(repr(arr ** 0.5))"
      ]
    },
    {
      "cell_type": "markdown",
      "metadata": {},
      "source": [
        "It is easy to convert huge dataset with only a few operations"
      ]
    },
    {
      "cell_type": "code",
      "execution_count": 37,
      "metadata": {},
      "outputs": [
        {
          "name": "stdout",
          "output_type": "stream",
          "text": [
            "Celsius: array([  0., -20., -10., -40.])\n"
          ]
        }
      ],
      "source": [
        "def f2c(temps):\n",
        "  return (5/9) * (temps - 32)\n",
        "\n",
        "fahrenheits = np.array([32, -4, 14, -40])\n",
        "celsius = f2c(fahrenheits)\n",
        "print(f\"Celsius: {repr(celsius)}\")"
      ]
    },
    {
      "cell_type": "markdown",
      "metadata": {},
      "source": [
        "NB: Performing arithmetic on numpy arrays *do not change the original array.* A new array is created for the result of the operation. "
      ]
    },
    {
      "cell_type": "markdown",
      "metadata": {},
      "source": [
        "## Non-linear functions\n",
        "e.g. **np.exp** --> performs a base *e* exponential on an array  \n",
        "     **np.exp2** --> performs a base 2 exponential on an array  \n",
        "     **np.log** --> performs logarithms using base *e*  \n",
        "     **np.log2** --> performs logarithms using base 2  \n",
        "     **np.log10** --> performs logarithms using base 10"
      ]
    },
    {
      "cell_type": "code",
      "execution_count": 43,
      "metadata": {},
      "outputs": [
        {
          "name": "stdout",
          "output_type": "stream",
          "text": [
            "Original arr: array([[1, 2],\n",
            "       [3, 4]])\n",
            "Raising a power of e based on the elements: \n",
            "\t\t\t\tarray([[ 2.71828183,  7.3890561 ],\n",
            "       [20.08553692, 54.59815003]])\n",
            "Raising a power of 2 based on the elements: \n",
            "\t\t\t\tarray([[ 2.,  4.],\n",
            "       [ 8., 16.]])\n",
            "Natural logarithm: \n",
            "\t\t\t\tarray([[0.        , 2.30258509],\n",
            "       [1.        , 1.14472989]])\n",
            "Base 10 logarithm: \n",
            "\t\t\t\tarray([[0.        , 1.        ],\n",
            "       [0.43429448, 0.49714987]])\n"
          ]
        }
      ],
      "source": [
        "arr = np.array([[1, 2], [3, 4]])\n",
        "print(f\"Original arr: {repr(arr)}\")\n",
        "\n",
        "# raise to power of e\n",
        "print(f\"Raising a power of e based on the elements: \\n\\t\\t\\t\\t{repr(np.exp(arr))}\")\n",
        "\n",
        "print(f\"Raising a power of 2 based on the elements: \\n\\t\\t\\t\\t{repr(np.exp2(arr))}\")\n",
        "\n",
        "arr2 = np.array([[1, 10], [np.e, np.pi]])\n",
        "print(f\"Natural logarithm: \\n\\t\\t\\t\\t{repr(np.log(arr2))}\")\n",
        "print(f\"Base 10 logarithm: \\n\\t\\t\\t\\t{repr(np.log10(arr2))}\")\n"
      ]
    },
    {
      "cell_type": "markdown",
      "metadata": {},
      "source": [
        "**np.power** is used to do a regular power operation with any base. First argument is the base and the second is the power."
      ]
    },
    {
      "cell_type": "code",
      "execution_count": 44,
      "metadata": {},
      "outputs": [
        {
          "name": "stdout",
          "output_type": "stream",
          "text": [
            "Raise 3 to power of each number in arr: array([[ 3,  9],\n",
            "       [27, 81]])\n",
            "Raise arr2 to power of each number in arr: array([[ 10.2,  16. ],\n",
            "       [ 27. , 625. ]])\n"
          ]
        }
      ],
      "source": [
        "arr = np.array([[1, 2], [3, 4]])\n",
        "\n",
        "print(f\"Raise 3 to power of each number in arr: {repr(np.power(3, arr))}\")\n",
        "\n",
        "arr2 = np.array([[10.2, 4], [3, 5]])\n",
        "print(f\"Raise arr2 to power of each number in arr: {repr(np.power(arr2, arr))}\")"
      ]
    },
    {
      "cell_type": "markdown",
      "metadata": {},
      "source": [
        "[This documentation](https://numpy.org/doc/stable/reference/routines.math.html) contains a list of the numpy mathematical functions."
      ]
    },
    {
      "cell_type": "markdown",
      "metadata": {},
      "source": [
        "## Matrix multiplication"
      ]
    },
    {
      "cell_type": "markdown",
      "metadata": {},
      "source": [
        "**np.matmul** takes two vector/matrix arrays as input and produces a dot product or matrix multiplication. Dimensions should be valid."
      ]
    },
    {
      "cell_type": "code",
      "execution_count": 49,
      "metadata": {},
      "outputs": [
        {
          "name": "stdout",
          "output_type": "stream",
          "text": [
            "Dot product: 27\n",
            "Matrix multiplication A3 x A4: array([[  5,   4,  -7],\n",
            "       [  9,   8, -13],\n",
            "       [ 13,  12, -19]])\n",
            "Matrix multiplication A4 x A3: array([[  4,   4],\n",
            "       [-11, -10]])\n"
          ]
        }
      ],
      "source": [
        "arr1 = np.array([1, 2, 3])\n",
        "arr2 = np.array([-3, 0, 10])\n",
        "\n",
        "print(f\"Dot product: {np.matmul(arr1, arr2)}\")\n",
        "\n",
        "arr3 = np.array([[1, 2], [3, 4], [5, 6]])\n",
        "arr4 = np.array([[-1, 0, 1], [3, 2, -4]])\n",
        "print(f\"Matrix multiplication A3 x A4: {repr(np.matmul(arr3, arr4))}\")\n",
        "print(f\"Matrix multiplication A4 x A3: {repr(np.matmul(arr4, arr3))}\")\n",
        "\n",
        "# This causes error: size 3 is different from 2\n",
        "# print(repr(np.matmul(arr3, arr3)))"
      ]
    },
    {
      "cell_type": "markdown",
      "metadata": {},
      "source": []
    }
  ],
  "metadata": {
    "kernelspec": {
      "display_name": "Python 3",
      "language": "python",
      "name": "python3"
    },
    "language_info": {
      "codemirror_mode": {
        "name": "ipython",
        "version": 3
      },
      "file_extension": ".py",
      "mimetype": "text/x-python",
      "name": "python",
      "nbconvert_exporter": "python",
      "pygments_lexer": "ipython3",
      "version": "3.11.5"
    }
  },
  "nbformat": 4,
  "nbformat_minor": 4
}
