{
 "cells": [
  {
   "cell_type": "markdown",
   "metadata": {},
   "source": [
    "## Series"
   ]
  },
  {
   "cell_type": "markdown",
   "metadata": {},
   "source": [
    "Series objects are 1-D. Each object has its own associated index"
   ]
  },
  {
   "cell_type": "code",
   "execution_count": 8,
   "metadata": {},
   "outputs": [
    {
     "name": "stdout",
     "output_type": "stream",
     "text": [
      "Series([], dtype: float64)\n",
      "\n",
      "Series(5):\n",
      "0    5\n",
      "dtype: int64\n",
      "\n",
      "Series with arr:\n",
      "0    1\n",
      "1    2\n",
      "2    3\n",
      "dtype: int64\n",
      "\n",
      "Upcasting:\n",
      "0    1.0\n",
      "1    2.2\n",
      "dtype: float64\n",
      "\n",
      "Using numpy arr:\n",
      "0    1.0\n",
      "1    2.0\n",
      "dtype: float32\n",
      "\n",
      "2D series:\n",
      "0    [1, 2]\n",
      "1    [3, 4]\n",
      "dtype: object\n",
      "\n"
     ]
    }
   ],
   "source": [
    "import pandas as pd \n",
    "import numpy as np\n",
    "\n",
    "series = pd.Series(dtype=\"float64\")\n",
    "print(f\"{series}\\n\")\n",
    "\n",
    "series = pd.Series(5)\n",
    "print(f\"Series(5):\\n{series}\\n\")\n",
    "\n",
    "series = pd.Series([1, 2, 3])\n",
    "print(f\"Series with arr:\\n{series}\\n\")\n",
    "\n",
    "series = pd.Series([1, 2.2]) \n",
    "print(f\"Upcasting:\\n{series}\\n\")\n",
    "\n",
    "arr = np.array([1, 2])\n",
    "series = pd.Series(arr, dtype=np.float32)\n",
    "print(f\"Using numpy arr:\\n{series}\\n\")\n",
    "\n",
    "series = pd.Series([[1, 2], [3, 4]])\n",
    "print(f\"2D series:\\n{series}\\n\")"
   ]
  },
  {
   "cell_type": "markdown",
   "metadata": {},
   "source": [
    "### Indexing"
   ]
  },
  {
   "cell_type": "markdown",
   "metadata": {},
   "source": [
    "The default index is integers from 0 to size of elements in series - 1. But, we can also provide our custom index through **index** keyword. The values in **index** list should be a hashable type."
   ]
  },
  {
   "cell_type": "code",
   "execution_count": 9,
   "metadata": {},
   "outputs": [
    {
     "name": "stdout",
     "output_type": "stream",
     "text": [
      "Series with custom index:\n",
      "a    1\n",
      "b    2\n",
      "c    3\n",
      "dtype: int64\n",
      "\n",
      "Series with new custom index:\n",
      "a      1\n",
      "8      2\n",
      "0.3    3\n",
      "dtype: int64\n"
     ]
    }
   ],
   "source": [
    "series = pd.Series([1, 2, 3], index=[\"a\", \"b\", \"c\"])\n",
    "print(f\"Series with custom index:\\n{series}\\n\")\n",
    "\n",
    "series = pd.Series([1, 2, 3], index=[\"a\", 8, 0.3])\n",
    "print(f\"Series with new custom index:\\n{series}\")"
   ]
  },
  {
   "cell_type": "markdown",
   "metadata": {},
   "source": [
    "We can also pass in a dictionary so that the keys are used as index and the values are used as series objects"
   ]
  },
  {
   "cell_type": "code",
   "execution_count": 10,
   "metadata": {},
   "outputs": [
    {
     "name": "stdout",
     "output_type": "stream",
     "text": [
      "Series from dictionary:\n",
      "a    1\n",
      "b    2\n",
      "c    3\n",
      "dtype: int64\n",
      "\n"
     ]
    }
   ],
   "source": [
    "series = pd.Series({\"a\": 1, \"b\": 2, \"c\": 3 })\n",
    "print(f\"Series from dictionary:\\n{series}\\n\")\n"
   ]
  },
  {
   "cell_type": "code",
   "execution_count": 14,
   "metadata": {},
   "outputs": [
    {
     "name": "stdout",
     "output_type": "stream",
     "text": [
      "Dot product:\n",
      "0    10\n",
      "1    40\n",
      "2    90\n",
      "dtype: int64\n",
      "\n",
      "Scaling:\n",
      "0    10\n",
      "1    20\n",
      "2    30\n",
      "dtype: int64\n"
     ]
    }
   ],
   "source": [
    "s1 = pd.Series([1, 2, 3])\n",
    "s2 = s1 * [10, 20, 30]\n",
    "print(f\"Dot product:\\n{s2}\\n\")\n",
    "\n",
    "print(f\"Scaling:\\n{s1 * 10}\")"
   ]
  },
  {
   "cell_type": "code",
   "execution_count": null,
   "metadata": {},
   "outputs": [],
   "source": []
  }
 ],
 "metadata": {
  "kernelspec": {
   "display_name": "Python 3",
   "language": "python",
   "name": "python3"
  },
  "language_info": {
   "codemirror_mode": {
    "name": "ipython",
    "version": 3
   },
   "file_extension": ".py",
   "mimetype": "text/x-python",
   "name": "python",
   "nbconvert_exporter": "python",
   "pygments_lexer": "ipython3",
   "version": "3.11.1"
  }
 },
 "nbformat": 4,
 "nbformat_minor": 2
}
