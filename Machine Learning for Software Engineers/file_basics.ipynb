{
 "cells": [
  {
   "cell_type": "markdown",
   "metadata": {},
   "source": [
    "## Reading data"
   ]
  },
  {
   "cell_type": "markdown",
   "metadata": {},
   "source": [
    "We either use *read_csv*, *read_excel*, or *read_json* function depending on the file being CSV, XLSX (Microsoft Excel) or JSON, respectively."
   ]
  },
  {
   "cell_type": "code",
   "execution_count": 6,
   "metadata": {},
   "outputs": [
    {
     "name": "stdout",
     "output_type": "stream",
     "text": [
      "Data:\n",
      "      yearID lgID teamID franchID divID  Rank    G  Ghome   W    L  ...   DP  \\\n",
      "0       1871  NaN    BS1      BNA   NaN     3   31    NaN  20   10  ...   24   \n",
      "1       1871  NaN    CH1      CNA   NaN     2   28    NaN  19    9  ...   16   \n",
      "2       1871  NaN    CL1      CFC   NaN     8   29    NaN  10   19  ...   15   \n",
      "3       1871  NaN    FW1      KEK   NaN     7   19    NaN   7   12  ...    8   \n",
      "4       1871  NaN    NY2      NNA   NaN     5   33    NaN  16   17  ...   14   \n",
      "...      ...  ...    ...      ...   ...   ...  ...    ...  ..  ...  ...  ...   \n",
      "3010    2022   NL    SLN      STL     C     1  162   81.0  93   69  ...  181   \n",
      "3011    2022   AL    TBA      TBD     E     1  162   81.0  86   76  ...  110   \n",
      "3012    2022   AL    TEX      TEX     W     4  162   81.0  68   94  ...  143   \n",
      "3013    2022   AL    TOR      TOR     E     2  162   81.0  92   70  ...  120   \n",
      "3014    2022   NL    WAS      WSN     E     5  162   81.0  55  107  ...  126   \n",
      "\n",
      "         FP                     name                          park  \\\n",
      "0     0.834     Boston Red Stockings           South End Grounds I   \n",
      "1     0.829  Chicago White Stockings       Union Base-Ball Grounds   \n",
      "2     0.818   Cleveland Forest Citys  National Association Grounds   \n",
      "3     0.803     Fort Wayne Kekiongas                Hamilton Field   \n",
      "4     0.840         New York Mutuals      Union Grounds (Brooklyn)   \n",
      "...     ...                      ...                           ...   \n",
      "3010  0.989      St. Louis Cardinals             Busch Stadium III   \n",
      "3011  0.985           Tampa Bay Rays               Tropicana Field   \n",
      "3012  0.984            Texas Rangers              Globe Life Field   \n",
      "3013  0.986        Toronto Blue Jays                 Rogers Centre   \n",
      "3014  0.982     Washington Nationals                Nationals Park   \n",
      "\n",
      "      attendance  BPF  PPF  teamIDBR  teamIDlahman45  teamIDretro  \n",
      "0            NaN  103   98       BOS             BS1          BS1  \n",
      "1            NaN  104  102       CHI             CH1          CH1  \n",
      "2            NaN   96  100       CLE             CL1          CL1  \n",
      "3            NaN  101  107       KEK             FW1          FW1  \n",
      "4            NaN   90   88       NYU             NY2          NY2  \n",
      "...          ...  ...  ...       ...             ...          ...  \n",
      "3010   3320551.0   94   94       STL             SLN          SLN  \n",
      "3011   1128127.0   95   93       TBR             TBA          TBA  \n",
      "3012   2011361.0  100  101       TEX             TEX          TEX  \n",
      "3013   2653830.0  100  100       TOR             TOR          TOR  \n",
      "3014   2026401.0   94   96       WSN             MON          WAS  \n",
      "\n",
      "[3015 rows x 48 columns]\n",
      "\n",
      "Index col 0:\n",
      "       lgID teamID franchID divID  Rank    G  Ghome   W    L DivWin  ...   DP  \\\n",
      "yearID                                                               ...        \n",
      "1871    NaN    BS1      BNA   NaN     3   31    NaN  20   10    NaN  ...   24   \n",
      "1871    NaN    CH1      CNA   NaN     2   28    NaN  19    9    NaN  ...   16   \n",
      "1871    NaN    CL1      CFC   NaN     8   29    NaN  10   19    NaN  ...   15   \n",
      "1871    NaN    FW1      KEK   NaN     7   19    NaN   7   12    NaN  ...    8   \n",
      "1871    NaN    NY2      NNA   NaN     5   33    NaN  16   17    NaN  ...   14   \n",
      "...     ...    ...      ...   ...   ...  ...    ...  ..  ...    ...  ...  ...   \n",
      "2022     NL    SLN      STL     C     1  162   81.0  93   69      Y  ...  181   \n",
      "2022     AL    TBA      TBD     E     1  162   81.0  86   76      N  ...  110   \n",
      "2022     AL    TEX      TEX     W     4  162   81.0  68   94      N  ...  143   \n",
      "2022     AL    TOR      TOR     E     2  162   81.0  92   70      N  ...  120   \n",
      "2022     NL    WAS      WSN     E     5  162   81.0  55  107      N  ...  126   \n",
      "\n",
      "           FP                     name                          park  \\\n",
      "yearID                                                                 \n",
      "1871    0.834     Boston Red Stockings           South End Grounds I   \n",
      "1871    0.829  Chicago White Stockings       Union Base-Ball Grounds   \n",
      "1871    0.818   Cleveland Forest Citys  National Association Grounds   \n",
      "1871    0.803     Fort Wayne Kekiongas                Hamilton Field   \n",
      "1871    0.840         New York Mutuals      Union Grounds (Brooklyn)   \n",
      "...       ...                      ...                           ...   \n",
      "2022    0.989      St. Louis Cardinals             Busch Stadium III   \n",
      "2022    0.985           Tampa Bay Rays               Tropicana Field   \n",
      "2022    0.984            Texas Rangers              Globe Life Field   \n",
      "2022    0.986        Toronto Blue Jays                 Rogers Centre   \n",
      "2022    0.982     Washington Nationals                Nationals Park   \n",
      "\n",
      "        attendance  BPF  PPF  teamIDBR  teamIDlahman45  teamIDretro  \n",
      "yearID                                                               \n",
      "1871           NaN  103   98       BOS             BS1          BS1  \n",
      "1871           NaN  104  102       CHI             CH1          CH1  \n",
      "1871           NaN   96  100       CLE             CL1          CL1  \n",
      "1871           NaN  101  107       KEK             FW1          FW1  \n",
      "1871           NaN   90   88       NYU             NY2          NY2  \n",
      "...            ...  ...  ...       ...             ...          ...  \n",
      "2022     3320551.0   94   94       STL             SLN          SLN  \n",
      "2022     1128127.0   95   93       TBR             TBA          TBA  \n",
      "2022     2011361.0  100  101       TEX             TEX          TEX  \n",
      "2022     2653830.0  100  100       TOR             TOR          TOR  \n",
      "2022     2026401.0   94   96       WSN             MON          WAS  \n",
      "\n",
      "[3015 rows x 47 columns]\n",
      "\n",
      "Index col 1:\n",
      "      yearID teamID franchID divID  Rank    G  Ghome   W    L DivWin  ...  \\\n",
      "lgID                                                                  ...   \n",
      "NaN     1871    BS1      BNA   NaN     3   31    NaN  20   10    NaN  ...   \n",
      "NaN     1871    CH1      CNA   NaN     2   28    NaN  19    9    NaN  ...   \n",
      "NaN     1871    CL1      CFC   NaN     8   29    NaN  10   19    NaN  ...   \n",
      "NaN     1871    FW1      KEK   NaN     7   19    NaN   7   12    NaN  ...   \n",
      "NaN     1871    NY2      NNA   NaN     5   33    NaN  16   17    NaN  ...   \n",
      "...      ...    ...      ...   ...   ...  ...    ...  ..  ...    ...  ...   \n",
      "NL      2022    SLN      STL     C     1  162   81.0  93   69      Y  ...   \n",
      "AL      2022    TBA      TBD     E     1  162   81.0  86   76      N  ...   \n",
      "AL      2022    TEX      TEX     W     4  162   81.0  68   94      N  ...   \n",
      "AL      2022    TOR      TOR     E     2  162   81.0  92   70      N  ...   \n",
      "NL      2022    WAS      WSN     E     5  162   81.0  55  107      N  ...   \n",
      "\n",
      "       DP     FP                     name                          park  \\\n",
      "lgID                                                                      \n",
      "NaN    24  0.834     Boston Red Stockings           South End Grounds I   \n",
      "NaN    16  0.829  Chicago White Stockings       Union Base-Ball Grounds   \n",
      "NaN    15  0.818   Cleveland Forest Citys  National Association Grounds   \n",
      "NaN     8  0.803     Fort Wayne Kekiongas                Hamilton Field   \n",
      "NaN    14  0.840         New York Mutuals      Union Grounds (Brooklyn)   \n",
      "...   ...    ...                      ...                           ...   \n",
      "NL    181  0.989      St. Louis Cardinals             Busch Stadium III   \n",
      "AL    110  0.985           Tampa Bay Rays               Tropicana Field   \n",
      "AL    143  0.984            Texas Rangers              Globe Life Field   \n",
      "AL    120  0.986        Toronto Blue Jays                 Rogers Centre   \n",
      "NL    126  0.982     Washington Nationals                Nationals Park   \n",
      "\n",
      "      attendance  BPF  PPF  teamIDBR  teamIDlahman45  teamIDretro  \n",
      "lgID                                                               \n",
      "NaN          NaN  103   98       BOS             BS1          BS1  \n",
      "NaN          NaN  104  102       CHI             CH1          CH1  \n",
      "NaN          NaN   96  100       CLE             CL1          CL1  \n",
      "NaN          NaN  101  107       KEK             FW1          FW1  \n",
      "NaN          NaN   90   88       NYU             NY2          NY2  \n",
      "...          ...  ...  ...       ...             ...          ...  \n",
      "NL     3320551.0   94   94       STL             SLN          SLN  \n",
      "AL     1128127.0   95   93       TBR             TBA          TBA  \n",
      "AL     2011361.0  100  101       TEX             TEX          TEX  \n",
      "AL     2653830.0  100  100       TOR             TOR          TOR  \n",
      "NL     2026401.0   94   96       WSN             MON          WAS  \n",
      "\n",
      "[3015 rows x 47 columns]\n",
      "\n"
     ]
    }
   ],
   "source": [
    "import pandas as pd \n",
    "\n",
    "df = pd.read_csv(\"Teams.csv\")\n",
    "print(f\"Data:\\n{df}\\n\")\n",
    "\n",
    "df = pd.read_csv(\"Teams.csv\", index_col=0)\n",
    "print(f\"Index col 0:\\n{df}\\n\")\n",
    "\n",
    "df = pd.read_csv(\"Teams.csv\", index_col=1)\n",
    "print(f\"Index col 1:\\n{df}\\n\")"
   ]
  },
  {
   "cell_type": "code",
   "execution_count": 8,
   "metadata": {},
   "outputs": [],
   "source": [
    "# df = pd.read_excel(\"data.xlsx\")\n",
    "# print(\"Data:\\n{df}\\n\")\n",
    "\n",
    "# print(\"Sheet 1 (0-indexed) DataFrame:\")\n",
    "# df = pd.read_excel(\"data.xlsx\", sheet_name=1)\n",
    "# print(f\"{df}\\n\")\n",
    "\n",
    "# print(\"MIL DataFrame:\\n\")\n",
    "# df = pd.read_excel(\"data.xlsx\", sheet_name=\"MIL\")\n",
    "# print(f\"{df}\\n\")\n",
    "\n",
    "# # Can read two sheets\n",
    "# df_dict = pd.read_excel(\"data.xlsx\", sheet_name=[0, 1])\n",
    "# print(f\"{df[1]}\\n\")\n",
    "\n",
    "# # ALL Sheets\n",
    "# df_dict = pd.read_excel(\"data.xlsx\", sheet_name=None)\n",
    "# print(df_dict.keys())\n"
   ]
  },
  {
   "cell_type": "code",
   "execution_count": 9,
   "metadata": {},
   "outputs": [],
   "source": [
    "# df1 = pd.read_json(\"data.json\")\n",
    "# print(f\"{df1}\\n\")\n",
    "\n",
    "# df2 = pd.read_json(\"data.json\", orient=\"index\")\n",
    "# print(f\"{df2}\\n\")"
   ]
  },
  {
   "cell_type": "markdown",
   "metadata": {},
   "source": [
    "## Writing to files"
   ]
  },
  {
   "cell_type": "markdown",
   "metadata": {},
   "source": [
    "We can also use **to_csv**, **to_excel** and **to_json** to write data to file."
   ]
  },
  {
   "cell_type": "code",
   "execution_count": 10,
   "metadata": {},
   "outputs": [],
   "source": [
    "# mlb_df = None # should be something\n",
    "\n",
    "# mlb_df.to_csv(\"data.csv\")\n",
    "# df = pd.read_csv(\"data.csv\")\n",
    "# print(f\"{df}\\n\")\n",
    "\n",
    "# # If we don't want index to be kept\n",
    "# mlb_df.to_csv(\"data.csv\", index=False)\n",
    "# df = pd.read_csv(\"data.csv\")\n",
    "# print(f\"{df}\\n\")"
   ]
  },
  {
   "cell_type": "code",
   "execution_count": 15,
   "metadata": {},
   "outputs": [],
   "source": [
    "mlb_df1 = pd.DataFrame() # Should be something\n",
    "mlb_df2 = pd.DataFrame() # Should be something\n",
    "\n",
    "# with pd.ExcelWriter(\"data.xlsx\") as writer:\n",
    "#   mlb_df1.to_excel(writer, index=False, sheet_name=\"NYY\")\n",
    "#   mlb_df2.to_excel(writer, index=False, sheet_name=\"BOS\")\n",
    "\n",
    "# df_dict = pd.read_excel(\"data.xlsx\", sheet_name=None)\n",
    "# print(df_dict.keys())\n",
    "# print(f\"BOS Data:\\n{df_dict['BOS']}\\n\")"
   ]
  },
  {
   "cell_type": "code",
   "execution_count": 17,
   "metadata": {},
   "outputs": [],
   "source": [
    "# df.to_json(\"data.json\")\n",
    "# df2 = pd.read_json(\"data.json\")\n",
    "# print(f\"{df2}\\n\")\n",
    "\n",
    "# df.to_json(\"data.json\", orient=\"index\")\n",
    "# df2 = pd.read_json(\"data.json\")\n",
    "# print(f\"{df2}\\n\")\n",
    "# df2 = pd.read_json(\"data.json\", orient=\"index\")\n",
    "# print(f\"{df2}\\n\")"
   ]
  },
  {
   "cell_type": "markdown",
   "metadata": {},
   "source": []
  }
 ],
 "metadata": {
  "kernelspec": {
   "display_name": "Python 3",
   "language": "python",
   "name": "python3"
  },
  "language_info": {
   "codemirror_mode": {
    "name": "ipython",
    "version": 3
   },
   "file_extension": ".py",
   "mimetype": "text/x-python",
   "name": "python",
   "nbconvert_exporter": "python",
   "pygments_lexer": "ipython3",
   "version": "3.11.1"
  }
 },
 "nbformat": 4,
 "nbformat_minor": 2
}
