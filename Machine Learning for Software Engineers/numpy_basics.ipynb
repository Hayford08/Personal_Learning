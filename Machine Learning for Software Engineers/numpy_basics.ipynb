{
  "cells": [
    {
      "cell_type": "markdown",
      "metadata": {},
      "source": [
        "# Numpy Basics"
      ]
    },
    {
      "cell_type": "code",
      "execution_count": 1,
      "metadata": {
        "trusted": true
      },
      "outputs": [],
      "source": [
        "import numpy as np"
      ]
    },
    {
      "cell_type": "code",
      "execution_count": 2,
      "metadata": {
        "trusted": true
      },
      "outputs": [
        {
          "name": "stdout",
          "output_type": "stream",
          "text": [
            "array([-1.,  2.,  5.], dtype=float32)\n"
          ]
        }
      ],
      "source": [
        "arr = np.array([-1, 2, 5], dtype=np.float32)\n",
        "print(repr(arr))"
      ]
    },
    {
      "cell_type": "markdown",
      "metadata": {},
      "source": [
        "Numpy arrays can take any n-d dimensions"
      ]
    },
    {
      "cell_type": "code",
      "execution_count": 3,
      "metadata": {
        "trusted": true
      },
      "outputs": [
        {
          "name": "stdout",
          "output_type": "stream",
          "text": [
            "array([[0., 1., 2.],\n",
            "       [3., 4., 5.]], dtype=float32)\n"
          ]
        }
      ],
      "source": [
        "arr = np.array([[0, 1, 2], [3, 4, 5]], dtype=np.float32)\n",
        "print(repr(arr))"
      ]
    },
    {
      "cell_type": "markdown",
      "metadata": {},
      "source": [
        "If numpy array has mixed types, the array's type will be upcast to the highest level type. i.e. int -> float. And numbers -> strings"
      ]
    },
    {
      "cell_type": "code",
      "execution_count": 4,
      "metadata": {
        "trusted": true
      },
      "outputs": [
        {
          "name": "stdout",
          "output_type": "stream",
          "text": [
            "array(['Hayford', '2', '3.0'], dtype='<U32')\n"
          ]
        }
      ],
      "source": [
        "arr = np.array([\"Hayford\", 2, 3.0])\n",
        "print(repr(arr))"
      ]
    },
    {
      "cell_type": "markdown",
      "metadata": {},
      "source": [
        "Numpy arrays are mutable. To create a new object, _copy_ is used."
      ]
    },
    {
      "cell_type": "code",
      "execution_count": 5,
      "metadata": {
        "trusted": true
      },
      "outputs": [
        {
          "name": "stdout",
          "output_type": "stream",
          "text": [
            "Array a :array([0, 1])\n",
            "Array a: array([5, 1])\n",
            "Array b: array([9, 8])\n"
          ]
        }
      ],
      "source": [
        "a = np.array([0, 1])\n",
        "b = np.array([9, 8])\n",
        "c = a\n",
        "print(f\"Array a :{repr(a)}\")\n",
        "c[0] = 5\n",
        "print(f\"Array a: {repr(a)}\")\n",
        "\n",
        "d = b.copy()\n",
        "d[0] = 6\n",
        "print(f\"Array b: {repr(b)}\")"
      ]
    },
    {
      "cell_type": "markdown",
      "metadata": {},
      "source": [
        "Casting of an array is done through __*astype*__ function. "
      ]
    },
    {
      "cell_type": "code",
      "execution_count": 6,
      "metadata": {
        "trusted": true
      },
      "outputs": [
        {
          "name": "stdout",
          "output_type": "stream",
          "text": [
            "int64\n",
            "float32\n"
          ]
        }
      ],
      "source": [
        "arr = np.array([0, 1, 2])\n",
        "print(arr.dtype)\n",
        "\n",
        "arr = arr.astype(np.float32)\n",
        "print(arr.dtype)"
      ]
    },
    {
      "cell_type": "markdown",
      "metadata": {},
      "source": [
        "To indicate that an index contains no particular value, we use **np.nan** as a placeholder."
      ]
    },
    {
      "cell_type": "code",
      "execution_count": 7,
      "metadata": {
        "trusted": true
      },
      "outputs": [
        {
          "name": "stdout",
          "output_type": "stream",
          "text": [
            "array([nan,  1.,  2.])\n",
            "array(['nan', 'abc'], dtype='<U32')\n"
          ]
        }
      ],
      "source": [
        "arr = np.array([np.nan, 1, 2])\n",
        "print(repr(arr))\n",
        "arr = np.array([np.nan, \"abc\"])\n",
        "print(repr(arr))"
      ]
    },
    {
      "cell_type": "markdown",
      "metadata": {},
      "source": [
        "If **np.nan** is used in addition to other types, the dtype specified matters"
      ]
    },
    {
      "cell_type": "code",
      "execution_count": 8,
      "metadata": {
        "trusted": true
      },
      "outputs": [
        {
          "name": "stdout",
          "output_type": "stream",
          "text": [
            "array([nan,  1.,  2.], dtype=float32)\n"
          ]
        }
      ],
      "source": [
        "# np.array([np.nan, 1, 2], dtype=np.int32)  # --> cannot convert float NaN to integer\n",
        "arr = np.array([np.nan, 1, 2], dtype=np.float32)\n",
        "print(repr(arr))"
      ]
    },
    {
      "cell_type": "markdown",
      "metadata": {},
      "source": [
        "To represent a huge number, **np.inf** is used"
      ]
    },
    {
      "cell_type": "code",
      "execution_count": 9,
      "metadata": {
        "trusted": true
      },
      "outputs": [
        {
          "name": "stdout",
          "output_type": "stream",
          "text": [
            "True\n",
            "array([inf,  5.])\n",
            "array([-inf,   1.])\n"
          ]
        }
      ],
      "source": [
        "print(np.inf > 1000000000)\n",
        "\n",
        "arr = np.array([np.inf, 5])\n",
        "print(repr(arr))\n",
        "\n",
        "arr = np.array([-np.inf, 1])\n",
        "print(repr(arr))"
      ]
    },
    {
      "cell_type": "markdown",
      "metadata": {},
      "source": [
        "np.inf is of type float.   \n",
        "The following will cause an error if uncommented out"
      ]
    },
    {
      "cell_type": "code",
      "execution_count": 10,
      "metadata": {
        "trusted": true
      },
      "outputs": [],
      "source": [
        "# np.array([np.inf, 3], dtype=np.int32) # cannot convert float infinity to integer"
      ]
    },
    {
      "cell_type": "markdown",
      "metadata": {},
      "source": [
        "Similar to range, there is **np.arange** that creates a new array with the values as the range specified"
      ]
    },
    {
      "cell_type": "code",
      "execution_count": 11,
      "metadata": {
        "trusted": true
      },
      "outputs": [
        {
          "name": "stdout",
          "output_type": "stream",
          "text": [
            "array([0, 1, 2, 3, 4])\n",
            "array([0., 1., 2., 3., 4., 5.])\n",
            "array([-1.,  0.,  1.,  2.,  3.], dtype=float32)\n",
            "array([-1.5,  0.5,  2.5])\n"
          ]
        }
      ],
      "source": [
        "arr = np.arange(5)\n",
        "print(repr(arr))\n",
        "\n",
        "arr = np.arange(5.1)\n",
        "print(repr(arr))\n",
        "\n",
        "arr = np.arange(-1, 4, dtype=np.float32)\n",
        "print(repr(arr))\n",
        "\n",
        "arr = np.arange(-1.5, 4, 2)\n",
        "print(repr(arr))"
      ]
    },
    {
      "cell_type": "markdown",
      "metadata": {},
      "source": [
        "**np.linspace** is used to specify the number of elements in the returned array, rather than the step size. Required arguments are: start and end (inclusive). There is optional argument endpoint that if set to *False*, the end is not inclusive. To specify the number of elements, we set *num* keyword argument (has default value 50). "
      ]
    },
    {
      "cell_type": "code",
      "execution_count": 12,
      "metadata": {
        "trusted": true
      },
      "outputs": [
        {
          "name": "stdout",
          "output_type": "stream",
          "text": [
            "array([ 5.        ,  5.12244898,  5.24489796,  5.36734694,  5.48979592,\n",
            "        5.6122449 ,  5.73469388,  5.85714286,  5.97959184,  6.10204082,\n",
            "        6.2244898 ,  6.34693878,  6.46938776,  6.59183673,  6.71428571,\n",
            "        6.83673469,  6.95918367,  7.08163265,  7.20408163,  7.32653061,\n",
            "        7.44897959,  7.57142857,  7.69387755,  7.81632653,  7.93877551,\n",
            "        8.06122449,  8.18367347,  8.30612245,  8.42857143,  8.55102041,\n",
            "        8.67346939,  8.79591837,  8.91836735,  9.04081633,  9.16326531,\n",
            "        9.28571429,  9.40816327,  9.53061224,  9.65306122,  9.7755102 ,\n",
            "        9.89795918, 10.02040816, 10.14285714, 10.26530612, 10.3877551 ,\n",
            "       10.51020408, 10.63265306, 10.75510204, 10.87755102, 11.        ])\n",
            "array([ 5.,  7.,  9., 11.])\n",
            "array([5. , 6.5, 8. , 9.5])\n"
          ]
        }
      ],
      "source": [
        "arr = np.linspace(5, 11)\n",
        "print(repr(arr))\n",
        "\n",
        "arr = np.linspace(5, 11, num=4)\n",
        "print(repr(arr))\n",
        "\n",
        "arr = np.linspace(5, 11, num=4, endpoint=False)\n",
        "print(repr(arr))\n",
        "\n",
        "arr = np.linspace(5, 11, num=4)"
      ]
    },
    {
      "cell_type": "markdown",
      "metadata": {
        "trusted": true
      },
      "source": [
        "Numpy arrays can also be reshaped to a different dimension using **np.reshape**, which takes in the array to be reshaped and the new dimensions as required arguments. "
      ]
    },
    {
      "cell_type": "code",
      "execution_count": 13,
      "metadata": {
        "trusted": true
      },
      "outputs": [
        {
          "name": "stdout",
          "output_type": "stream",
          "text": [
            "array([[0, 1, 2, 3],\n",
            "       [4, 5, 6, 7]])\n",
            "New shape: (2, 4)\n"
          ]
        }
      ],
      "source": [
        "arr = np.arange(8)\n",
        "\n",
        "reshaped_arr = np.reshape(arr, (2, 4))\n",
        "print(repr(reshaped_arr))\n",
        "print(f\"New shape: {reshaped_arr.shape}\")"
      ]
    },
    {
      "cell_type": "markdown",
      "metadata": {},
      "source": [
        "The shape passed in as argument can have -1 in at most one dimension to allow the new shape to contain all the elements of the array;"
      ]
    },
    {
      "cell_type": "code",
      "execution_count": 14,
      "metadata": {},
      "outputs": [
        {
          "name": "stdout",
          "output_type": "stream",
          "text": [
            "array([[[0, 1],\n",
            "        [2, 3]],\n",
            "\n",
            "       [[4, 5],\n",
            "        [6, 7]]])\n",
            "New shape: (2, 2, 2)\n"
          ]
        }
      ],
      "source": [
        "reshaped_arr = np.reshape(arr, (-1, 2, 2))\n",
        "print(repr(reshaped_arr))\n",
        "print(f\"New shape: {reshaped_arr.shape}\")"
      ]
    },
    {
      "cell_type": "markdown",
      "metadata": {},
      "source": [
        "There is also the option to flatten an array to 1D using **flatten** function."
      ]
    },
    {
      "cell_type": "code",
      "execution_count": 15,
      "metadata": {},
      "outputs": [
        {
          "name": "stdout",
          "output_type": "stream",
          "text": [
            "array([[0, 1, 2, 3],\n",
            "       [4, 5, 6, 7]])\n",
            "arr shape: (2, 4)\n",
            "array([0, 1, 2, 3, 4, 5, 6, 7])\n",
            "flattened shape: (8,)\n"
          ]
        }
      ],
      "source": [
        "arr = np.reshape(arr, (2, 4))\n",
        "flattened = arr.flatten()\n",
        "print(repr(arr))\n",
        "print(f\"arr shape: {arr.shape}\")\n",
        "\n",
        "print(repr(flattened))\n",
        "print(f\"flattened shape: {flattened.shape}\")"
      ]
    },
    {
      "cell_type": "markdown",
      "metadata": {},
      "source": [
        "There **np.transpose** to convert arr to a different format and dimensions"
      ]
    },
    {
      "cell_type": "code",
      "execution_count": 16,
      "metadata": {},
      "outputs": [
        {
          "name": "stdout",
          "output_type": "stream",
          "text": [
            "array([[0, 1],\n",
            "       [2, 3],\n",
            "       [4, 5],\n",
            "       [6, 7]])\n",
            "arr shape: (4, 2)\n",
            "array([[0, 2, 4, 6],\n",
            "       [1, 3, 5, 7]])\n",
            "transposed shape: (2, 4)\n"
          ]
        }
      ],
      "source": [
        "arr = np.reshape(arr, (4, 2))\n",
        "transposed = np.transpose(arr)\n",
        "print(repr(arr))\n",
        "print(f\"arr shape: {arr.shape}\")\n",
        "\n",
        "print(repr(transposed))\n",
        "print(f\"transposed shape: {transposed.shape}\")"
      ]
    },
    {
      "cell_type": "markdown",
      "metadata": {},
      "source": [
        "**np.transpose** has an optional argument *axes*, which represents the new permutation of the dimensions. The permutation is a list or tuple of integers. "
      ]
    },
    {
      "cell_type": "code",
      "execution_count": 17,
      "metadata": {},
      "outputs": [
        {
          "name": "stdout",
          "output_type": "stream",
          "text": [
            "arr shape: (3, 4, 2)\n",
            "array([[[ 0,  8, 16],\n",
            "        [ 1,  9, 17]],\n",
            "\n",
            "       [[ 2, 10, 18],\n",
            "        [ 3, 11, 19]],\n",
            "\n",
            "       [[ 4, 12, 20],\n",
            "        [ 5, 13, 21]],\n",
            "\n",
            "       [[ 6, 14, 22],\n",
            "        [ 7, 15, 23]]])\n",
            "transposed shape: (4, 2, 3)\n"
          ]
        }
      ],
      "source": [
        "arr = np.arange(24)\n",
        "arr = np.reshape(arr, (3 ,4, 2))\n",
        "transposed = np.transpose(arr, axes=(1, 2, 0))\n",
        "print(f\"arr shape: {arr.shape}\")\n",
        "print(repr(transposed))\n",
        "print(f\"transposed shape: {transposed.shape}\")"
      ]
    },
    {
      "cell_type": "markdown",
      "metadata": {},
      "source": [
        "Numpy provides the option to have an array fill with solely ones or zeros using **np.zeros** or **np.ones**"
      ]
    },
    {
      "cell_type": "code",
      "execution_count": 18,
      "metadata": {},
      "outputs": [
        {
          "name": "stdout",
          "output_type": "stream",
          "text": [
            "array([0., 0., 0., 0.])\n",
            "array([[1., 1., 1.],\n",
            "       [1., 1., 1.]])\n",
            "array([[1, 1, 1],\n",
            "       [1, 1, 1]], dtype=int32)\n"
          ]
        }
      ],
      "source": [
        "arr = np.zeros(4)\n",
        "print(repr(arr))\n",
        "\n",
        "arr = np.ones((2, 3))\n",
        "print(repr(arr))\n",
        "\n",
        "arr = np.ones((2, 3), dtype=np.int32)\n",
        "print(repr(arr))"
      ]
    },
    {
      "cell_type": "markdown",
      "metadata": {},
      "source": [
        "We can also create array with zeros or ones with same shape as another array using **np.zeros_like** or **np.ones_like**"
      ]
    },
    {
      "cell_type": "code",
      "execution_count": 19,
      "metadata": {},
      "outputs": [
        {
          "name": "stdout",
          "output_type": "stream",
          "text": [
            "array([[0, 0],\n",
            "       [0, 0]])\n",
            "array([[1., 1.],\n",
            "       [1., 1.]])\n",
            "array([[1, 1],\n",
            "       [1, 1]], dtype=int32)\n"
          ]
        }
      ],
      "source": [
        "arr = np.array([[1, 2], [3, 4]])\n",
        "print(repr(np.zeros_like(arr)))\n",
        "\n",
        "arr = np.array([[0., 1.], [1.2, 4.]])\n",
        "print(repr(np.ones_like(arr)))\n",
        "print(repr(np.ones_like(arr, dtype=np.int32)))"
      ]
    },
    {
      "cell_type": "markdown",
      "metadata": {},
      "source": [
        "## Numpy Math"
      ]
    },
    {
      "cell_type": "code",
      "execution_count": 20,
      "metadata": {},
      "outputs": [
        {
          "name": "stdout",
          "output_type": "stream",
          "text": [
            "array([[2, 3],\n",
            "       [4, 5]])\n",
            "array([[-0.2,  0.8],\n",
            "       [ 1.8,  2.8]])\n",
            "array([[2, 4],\n",
            "       [6, 8]])\n",
            "array([[0.5, 1. ],\n",
            "       [1.5, 2. ]])\n",
            "array([[0, 1],\n",
            "       [1, 2]])\n",
            "array([[ 1,  4],\n",
            "       [ 9, 16]])\n",
            "array([[1.        , 1.41421356],\n",
            "       [1.73205081, 2.        ]])\n"
          ]
        }
      ],
      "source": [
        "arr = np.array([[1, 2], [3, 4]])\n",
        "\n",
        "# Add 1 to every element\n",
        "print(repr(arr + 1))\n",
        "\n",
        "# Subtract 1.2 from element values\n",
        "print(repr(arr - 1.2))\n",
        "\n",
        "# Double element values \n",
        "print(repr(arr * 2))\n",
        "\n",
        "# Halve element values\n",
        "print(repr(arr / 2))\n",
        "\n",
        "# floor or integer division \n",
        "print(repr(arr // 2))\n",
        "\n",
        "# Square each element \n",
        "print(repr(arr ** 2))\n",
        "\n",
        "# square root each element\n",
        "print(repr(arr ** 0.5))"
      ]
    },
    {
      "cell_type": "markdown",
      "metadata": {},
      "source": [
        "It is easy to convert huge dataset with only a few operations"
      ]
    },
    {
      "cell_type": "code",
      "execution_count": 21,
      "metadata": {},
      "outputs": [
        {
          "name": "stdout",
          "output_type": "stream",
          "text": [
            "Celsius: array([  0., -20., -10., -40.])\n"
          ]
        }
      ],
      "source": [
        "def f2c(temps):\n",
        "  return (5/9) * (temps - 32)\n",
        "\n",
        "fahrenheits = np.array([32, -4, 14, -40])\n",
        "celsius = f2c(fahrenheits)\n",
        "print(f\"Celsius: {repr(celsius)}\")"
      ]
    },
    {
      "cell_type": "markdown",
      "metadata": {},
      "source": [
        "NB: Performing arithmetic on numpy arrays *do not change the original array.* A new array is created for the result of the operation. "
      ]
    },
    {
      "cell_type": "markdown",
      "metadata": {},
      "source": [
        "## Non-linear functions\n",
        "e.g. **np.exp** --> performs a base *e* exponential on an array  \n",
        "     **np.exp2** --> performs a base 2 exponential on an array  \n",
        "     **np.log** --> performs logarithms using base *e*  \n",
        "     **np.log2** --> performs logarithms using base 2  \n",
        "     **np.log10** --> performs logarithms using base 10"
      ]
    },
    {
      "cell_type": "code",
      "execution_count": 22,
      "metadata": {},
      "outputs": [
        {
          "name": "stdout",
          "output_type": "stream",
          "text": [
            "Original arr: array([[1, 2],\n",
            "       [3, 4]])\n",
            "Raising a power of e based on the elements: \n",
            "\t\t\t\tarray([[ 2.71828183,  7.3890561 ],\n",
            "       [20.08553692, 54.59815003]])\n",
            "Raising a power of 2 based on the elements: \n",
            "\t\t\t\tarray([[ 2.,  4.],\n",
            "       [ 8., 16.]])\n",
            "Natural logarithm: \n",
            "\t\t\t\tarray([[0.        , 2.30258509],\n",
            "       [1.        , 1.14472989]])\n",
            "Base 10 logarithm: \n",
            "\t\t\t\tarray([[0.        , 1.        ],\n",
            "       [0.43429448, 0.49714987]])\n"
          ]
        }
      ],
      "source": [
        "arr = np.array([[1, 2], [3, 4]])\n",
        "print(f\"Original arr: {repr(arr)}\")\n",
        "\n",
        "# raise to power of e\n",
        "print(f\"Raising a power of e based on the elements: \\n\\t\\t\\t\\t{repr(np.exp(arr))}\")\n",
        "\n",
        "print(f\"Raising a power of 2 based on the elements: \\n\\t\\t\\t\\t{repr(np.exp2(arr))}\")\n",
        "\n",
        "arr2 = np.array([[1, 10], [np.e, np.pi]])\n",
        "print(f\"Natural logarithm: \\n\\t\\t\\t\\t{repr(np.log(arr2))}\")\n",
        "print(f\"Base 10 logarithm: \\n\\t\\t\\t\\t{repr(np.log10(arr2))}\")\n"
      ]
    },
    {
      "cell_type": "markdown",
      "metadata": {},
      "source": [
        "**np.power** is used to do a regular power operation with any base. First argument is the base and the second is the power."
      ]
    },
    {
      "cell_type": "code",
      "execution_count": 23,
      "metadata": {},
      "outputs": [
        {
          "name": "stdout",
          "output_type": "stream",
          "text": [
            "Raise 3 to power of each number in arr: array([[ 3,  9],\n",
            "       [27, 81]])\n",
            "Raise arr2 to power of each number in arr: array([[ 10.2,  16. ],\n",
            "       [ 27. , 625. ]])\n"
          ]
        }
      ],
      "source": [
        "arr = np.array([[1, 2], [3, 4]])\n",
        "\n",
        "print(f\"Raise 3 to power of each number in arr: {repr(np.power(3, arr))}\")\n",
        "\n",
        "arr2 = np.array([[10.2, 4], [3, 5]])\n",
        "print(f\"Raise arr2 to power of each number in arr: {repr(np.power(arr2, arr))}\")"
      ]
    },
    {
      "cell_type": "markdown",
      "metadata": {},
      "source": [
        "[This documentation](https://numpy.org/doc/stable/reference/routines.math.html) contains a list of the numpy mathematical functions."
      ]
    },
    {
      "cell_type": "markdown",
      "metadata": {},
      "source": [
        "## Matrix multiplication"
      ]
    },
    {
      "cell_type": "markdown",
      "metadata": {},
      "source": [
        "**np.matmul** takes two vector/matrix arrays as input and produces a dot product or matrix multiplication. Dimensions should be valid."
      ]
    },
    {
      "cell_type": "code",
      "execution_count": 24,
      "metadata": {},
      "outputs": [
        {
          "name": "stdout",
          "output_type": "stream",
          "text": [
            "Dot product: 27\n",
            "Matrix multiplication A3 x A4: array([[  5,   4,  -7],\n",
            "       [  9,   8, -13],\n",
            "       [ 13,  12, -19]])\n",
            "Matrix multiplication A4 x A3: array([[  4,   4],\n",
            "       [-11, -10]])\n"
          ]
        }
      ],
      "source": [
        "arr1 = np.array([1, 2, 3])\n",
        "arr2 = np.array([-3, 0, 10])\n",
        "\n",
        "print(f\"Dot product: {np.matmul(arr1, arr2)}\")\n",
        "\n",
        "arr3 = np.array([[1, 2], [3, 4], [5, 6]])\n",
        "arr4 = np.array([[-1, 0, 1], [3, 2, -4]])\n",
        "print(f\"Matrix multiplication A3 x A4: {repr(np.matmul(arr3, arr4))}\")\n",
        "print(f\"Matrix multiplication A4 x A3: {repr(np.matmul(arr4, arr3))}\")\n",
        "\n",
        "# This causes error: size 3 is different from 2\n",
        "# print(repr(np.matmul(arr3, arr3)))"
      ]
    },
    {
      "cell_type": "markdown",
      "metadata": {},
      "source": [
        "## Random Operations"
      ]
    },
    {
      "cell_type": "markdown",
      "metadata": {},
      "source": [
        "Numpy has **np.random** which is similar to Python's random module. This is used for pseudo-random number generation and extends to multi-dimensional arrays. "
      ]
    },
    {
      "cell_type": "code",
      "execution_count": 25,
      "metadata": {},
      "outputs": [
        {
          "name": "stdout",
          "output_type": "stream",
          "text": [
            "Random number generated: 4\n",
            "Another random number generated: 150\n",
            "Random 2D array: [[-2 -3]\n",
            " [10 12]]\n"
          ]
        }
      ],
      "source": [
        "print(f\"Random number generated: {np.random.randint(5)}\")\n",
        "print(f\"Another random number generated: {np.random.randint(4, 200)}\")\n",
        "\n",
        "random_arr = np.random.randint(-3, high=14, size=(2, 2))\n",
        "print(f\"Random 2D array: {random_arr}\")"
      ]
    },
    {
      "cell_type": "markdown",
      "metadata": {},
      "source": [
        "Utility functions from the *np.random* module include **np.random.seed, np.random.shuffle** \n",
        "\n",
        "**np.random.seed** is used to set the random seed to control the outputs of the pseudo-random functions. "
      ]
    },
    {
      "cell_type": "code",
      "execution_count": 26,
      "metadata": {},
      "outputs": [
        {
          "name": "stdout",
          "output_type": "stream",
          "text": [
            "First seed results:\n",
            "Random number within [0, 10): 5\n",
            "Random 2-D array: [[15 75]\n",
            " [12 78]]\n",
            "............................................\n",
            "Second seed results\n",
            "Random number with [0, 10): 8\n",
            "Random 2-D array: [[18 75]\n",
            " [25 46]]\n",
            "............................................\n",
            "Back to first seed:\n",
            "Random number within [0, 10): 5\n",
            "Random 2-D array: [[15 75]\n",
            " [12 78]]\n"
          ]
        }
      ],
      "source": [
        "print(\"First seed results:\")\n",
        "np.random.seed(1)\n",
        "print(f\"Random number within [0, 10): {np.random.randint(10)}\")\n",
        "\n",
        "random_arr = np.random.randint(3, high=100, size=(2, 2))\n",
        "print(f\"Random 2-D array: {random_arr}\")\n",
        "\n",
        "print(\"............................................\")\n",
        "print(\"Second seed results\")\n",
        "np.random.seed(2)\n",
        "print(f\"Random number with [0, 10): {np.random.randint(10)}\")\n",
        "random_arr = np.random.randint(3, high=100, size=(2, 2))\n",
        "print(f\"Random 2-D array: {random_arr}\")\n",
        "\n",
        "print(\"............................................\")\n",
        "print(\"Back to first seed:\")\n",
        "np.random.seed(1)\n",
        "print(f\"Random number within [0, 10): {np.random.randint(10)}\")\n",
        "\n",
        "random_arr = np.random.randint(3, high=100, size=(2, 2))\n",
        "print(f\"Random 2-D array: {random_arr}\")\n"
      ]
    },
    {
      "cell_type": "markdown",
      "metadata": {},
      "source": [
        "**np.random.shuffle** allows randomly shuffling of arrays, which is done in place. Also shuffling multi-dimensional array only shuffles the first dimension. "
      ]
    },
    {
      "cell_type": "code",
      "execution_count": 27,
      "metadata": {},
      "outputs": [
        {
          "name": "stdout",
          "output_type": "stream",
          "text": [
            "Original vec: [1 2 3 4 5]\n",
            "Shuffled vec: [3 4 2 5 1]\n",
            "Original matrix: [[1 2 3]\n",
            " [4 5 6]\n",
            " [7 8 9]]\n",
            "Shuffled matrix: [[7 8 9]\n",
            " [1 2 3]\n",
            " [4 5 6]]\n"
          ]
        }
      ],
      "source": [
        "vec = np.arange(1, 6)\n",
        "print(f\"Original vec: {vec}\")\n",
        "np.random.shuffle(vec)\n",
        "print(f\"Shuffled vec: {vec}\")\n",
        "\n",
        "matrix = np.arange(1, 10)\n",
        "matrix = matrix.reshape((3, 3))\n",
        "print(f\"Original matrix: {matrix}\")\n",
        "np.random.shuffle(matrix)\n",
        "print(f\"Shuffled matrix: {matrix}\")"
      ]
    },
    {
      "cell_type": "markdown",
      "metadata": {},
      "source": [
        "## Distributions"
      ]
    },
    {
      "cell_type": "markdown",
      "metadata": {},
      "source": [
        "**np.random** can also draw samples from probability distributions. One example is **np.random.uniform** used to draw samples from a uniform distribution."
      ]
    },
    {
      "cell_type": "code",
      "execution_count": 28,
      "metadata": {},
      "outputs": [
        {
          "name": "stdout",
          "output_type": "stream",
          "text": [
            "Uniform distribution with no argument: 0.39676747423066994\n",
            "Uniform distribution from [-1.5, 2.2): 0.4936219158124208\n",
            "Uniform distribution with size specified: [0.41919451 0.6852195  0.20445225]\n",
            "A 2x2 matrix showing uniform distributions from [-3.4, 5.9): [[ 4.76649216 -3.14529538]\n",
            " [ 2.83534784  0.48093466]]\n"
          ]
        }
      ],
      "source": [
        "print(f\"Uniform distribution with no argument: {np.random.uniform()}\")\n",
        "print(f\"Uniform distribution from [-1.5, 2.2): {np.random.uniform(low=-1.5, high=2.2)}\")\n",
        "print(f\"Uniform distribution with size specified: {np.random.uniform(size=3)}\")\n",
        "print(f\"A 2x2 matrix showing uniform distributions from [-3.4, 5.9): {np.random.uniform(low=-3.4, high=5.9, size=(2, 2))}\")"
      ]
    },
    {
      "cell_type": "markdown",
      "metadata": {},
      "source": [
        "There is the normal (Gaussian) distribution within Numpy module using **np.random.normal**"
      ]
    },
    {
      "cell_type": "code",
      "execution_count": 29,
      "metadata": {},
      "outputs": [
        {
          "name": "stdout",
          "output_type": "stream",
          "text": [
            "Drawing from a normal distribution: -1.1103630547363093\n",
            "Drawing from a normal distribution centered at 1.5: 2.13424993322389\n",
            "Drawing into a matrix: [[-0.14262054 -4.66604092]\n",
            " [ 0.51990239 -0.90802484]]\n"
          ]
        }
      ],
      "source": [
        "print(f\"Drawing from a normal distribution: {np.random.normal()}\")\n",
        "print(f\"Drawing from a normal distribution centered at 1.5: {np.random.normal(loc=1.5, scale=3.5)}\")\n",
        "print(f\"Drawing into a matrix: {np.random.normal(loc=-2.4, scale=4.0, size=(2, 2))}\")"
      ]
    },
    {
      "cell_type": "markdown",
      "metadata": {},
      "source": [
        "There is also the choice to sample from your custom distribution with **np.random.choice**"
      ]
    },
    {
      "cell_type": "code",
      "execution_count": 30,
      "metadata": {},
      "outputs": [
        {
          "name": "stdout",
          "output_type": "stream",
          "text": [
            "Ranodomly choosing a color from colors: red\n",
            "Can also choose with size: ['blue' 'red']\n",
            "Choosing with some probabilities: [['blue' 'red']\n",
            " ['red' 'red']]\n"
          ]
        }
      ],
      "source": [
        "colors = [\"red\", \"blue\", \"green\"]\n",
        "print(f\"Ranodomly choosing a color from colors: {np.random.choice(colors)}\")\n",
        "print(f\"Can also choose with size: {np.random.choice(colors, size=2)}\")\n",
        "print(f\"Choosing with some probabilities: {np.random.choice(colors, size=(2, 2), p=(0.8, 0.19, 0.01))}\")"
      ]
    },
    {
      "cell_type": "markdown",
      "metadata": {},
      "source": [
        "## Array Accessing"
      ]
    },
    {
      "cell_type": "markdown",
      "metadata": {},
      "source": [
        "Numpy arrays can be accessed similar to python lists."
      ]
    },
    {
      "cell_type": "code",
      "execution_count": 31,
      "metadata": {},
      "outputs": [
        {
          "name": "stdout",
          "output_type": "stream",
          "text": [
            "Value at index 0: 1\n",
            "Value at index 4: 5\n",
            "Row 0: array([6, 3])\n"
          ]
        }
      ],
      "source": [
        "arr = np.arange(1, 6)\n",
        "print(f\"Value at index 0: {arr[0]}\")\n",
        "print(f\"Value at index 4: {arr[4]}\")\n",
        "\n",
        "arr = np.array([[6, 3], [0, 2]])\n",
        "print(f\"Row 0: {repr(arr[0])}\")"
      ]
    },
    {
      "cell_type": "markdown",
      "metadata": {},
      "source": [
        "Slicing can also be done on Numpy arrays, including negative indexing."
      ]
    },
    {
      "cell_type": "code",
      "execution_count": 32,
      "metadata": {},
      "outputs": [
        {
          "name": "stdout",
          "output_type": "stream",
          "text": [
            "Shallow copy: array([1, 2, 3, 4, 5])\n",
            "Slicing off first element: array([2, 3, 4, 5])\n",
            "Other slicing: [4 5]\n"
          ]
        }
      ],
      "source": [
        "arr = np.arange(1, 6)\n",
        "print(f\"Shallow copy: {repr(arr[:])}\")\n",
        "print(f\"Slicing off first element: {repr(arr[1:])}\")\n",
        "print(f\"Other slicing: {arr[-2:]}\")"
      ]
    },
    {
      "cell_type": "markdown",
      "metadata": {},
      "source": [
        "For multi-dimentional arrays, a comma can be used to separate slices across each dimension"
      ]
    },
    {
      "cell_type": "code",
      "execution_count": 33,
      "metadata": {},
      "outputs": [
        {
          "name": "stdout",
          "output_type": "stream",
          "text": [
            "Shallow copy: array([[1, 2, 3],\n",
            "       [4, 5, 6],\n",
            "       [7, 8, 9]])\n",
            "Slicing off row 0: array([[4, 5, 6],\n",
            "       [7, 8, 9]])\n",
            "....................................\n",
            "To select last column -> arr[:, -1]: array([3, 6, 9])\n",
            "To select column 2 to end -> arr[:, 1:]: array([[2, 3],\n",
            "       [5, 6],\n",
            "       [8, 9]])\n",
            "arr[0:1, 1:]: array([[2, 3]])\n",
            "arr[0, 1:]: array([2, 3])\n"
          ]
        }
      ],
      "source": [
        "arr = np.array([[1, 2, 3],\n",
        "                [4, 5, 6],\n",
        "                [7, 8, 9]])\n",
        "print(f\"Shallow copy: {repr(arr[:])}\")\n",
        "print(f\"Slicing off row 0: {repr(arr[1:])}\")\n",
        "print(\"....................................\")\n",
        "print(f\"To select last column -> arr[:, -1]: {repr(arr[:, -1])}\")\n",
        "print(f\"To select column 2 to end -> arr[:, 1:]: {repr(arr[:, 1:])}\")\n",
        "print(f\"arr[0:1, 1:]: {repr(arr[0:1, 1:])}\")\n",
        "print(f\"arr[0, 1:]: {repr(arr[0, 1:])}\")"
      ]
    },
    {
      "cell_type": "markdown",
      "metadata": {},
      "source": [
        "## Argmin & Argmax  "
      ]
    },
    {
      "cell_type": "markdown",
      "metadata": {},
      "source": [
        "We can use **np.argmin** and **np.argmax** to find the indices of the minimum and maximum elements, respectively."
      ]
    },
    {
      "cell_type": "code",
      "execution_count": 34,
      "metadata": {},
      "outputs": [
        {
          "name": "stdout",
          "output_type": "stream",
          "text": [
            "Index of minimum in row 0: 1\n",
            "Index of maximum in last row: 1\n",
            "Index of minimum across the flattened array: 5\n"
          ]
        }
      ],
      "source": [
        "arr = np.array([[7, -1, 8],\n",
        "                [4, 5, -8],\n",
        "                [-1, 9, 1]])\n",
        "print(f\"Index of minimum in row 0: {repr(np.argmin(arr[0]))}\")\n",
        "print(f\"Index of maximum in last row: {repr(np.argmax(arr[-1]))}\")\n",
        "print(f\"Index of minimum across the flattened array: {repr(np.argmin(arr))}\")"
      ]
    },
    {
      "cell_type": "markdown",
      "metadata": {},
      "source": [
        "An axes can be specified on which to find the max or min index."
      ]
    },
    {
      "cell_type": "code",
      "execution_count": 35,
      "metadata": {},
      "outputs": [
        {
          "name": "stdout",
          "output_type": "stream",
          "text": [
            "Indices of the minimum element in each row for each column: [2 0 1]\n",
            "Indices of the maximum element in each column for each row: [2 1 1]\n"
          ]
        }
      ],
      "source": [
        "print(f\"Indices of the minimum element in each row for each column: {np.argmin(arr, axis=0)}\")\n",
        "print(f\"Indices of the maximum element in each column for each row: {np.argmax(arr, axis=1)}\")"
      ]
    },
    {
      "cell_type": "markdown",
      "metadata": {},
      "source": [
        "## Filtering Data\n"
      ]
    },
    {
      "cell_type": "markdown",
      "metadata": {},
      "source": [
        "Filtering is done on each element in the array"
      ]
    },
    {
      "cell_type": "code",
      "execution_count": 36,
      "metadata": {},
      "outputs": [
        {
          "name": "stdout",
          "output_type": "stream",
          "text": [
            "arr == 3: array([[False, False,  True],\n",
            "       [False,  True, False],\n",
            "       [False, False, False]])\n",
            "arr > 0: array([[False,  True,  True],\n",
            "       [ True,  True, False],\n",
            "       [False, False,  True]])\n",
            "arr != 1: array([[ True,  True,  True],\n",
            "       [False,  True,  True],\n",
            "       [ True,  True, False]])\n",
            "~(arr != 1): array([[False, False, False],\n",
            "       [ True, False, False],\n",
            "       [False, False,  True]])\n"
          ]
        }
      ],
      "source": [
        "arr = np.array([[0, 2, 3],\n",
        "                [1, 3, -6],\n",
        "                [-3, -2, 1]])\n",
        "print(f\"arr == 3: {repr(arr == 3)}\")\n",
        "print(f\"arr > 0: {repr(arr > 0)}\")\n",
        "print(f\"arr != 1: {repr(arr != 1)}\")\n",
        "# same as arr == 1\n",
        "print(f\"~(arr != 1): {repr(~(arr != 1))}\")\n"
      ]
    },
    {
      "cell_type": "code",
      "execution_count": 37,
      "metadata": {},
      "outputs": [
        {
          "name": "stdout",
          "output_type": "stream",
          "text": [
            "Checking isnan: array([[False, False,  True],\n",
            "       [False,  True, False],\n",
            "       [ True, False, False]])\n"
          ]
        }
      ],
      "source": [
        "arr = np.array([[0, 2, np.nan],\n",
        "                [1, np.nan, -6], \n",
        "                [np.nan, -2, 1]])\n",
        "print(f\"Checking isnan: {repr(np.isnan(arr))}\")"
      ]
    },
    {
      "cell_type": "markdown",
      "metadata": {},
      "source": [
        "## Filtering in Numpy"
      ]
    },
    {
      "cell_type": "markdown",
      "metadata": {},
      "source": [
        "Filtering in numpy is done using **np.where** function. It takes a required argument of boolean array and returns indices that meet the True condition."
      ]
    },
    {
      "cell_type": "code",
      "execution_count": 38,
      "metadata": {},
      "outputs": [
        {
          "name": "stdout",
          "output_type": "stream",
          "text": [
            "Using 1D array: (array([0, 2]),)\n",
            "(array([1, 3]),)\n",
            "X indices where there are non-zero elements: array([0, 0, 1, 2])\n",
            "Y indices where there are non-zeor elements: array([1, 2, 0, 0])\n",
            "Values at pos: array([ 2,  3,  1, -3])\n"
          ]
        }
      ],
      "source": [
        "print(f\"Using 1D array: {repr(np.where([True, False, True]))}\")\n",
        "arr = np.array([0, 3, 5, 3, 1])\n",
        "print(repr(np.where(arr == 3)))\n",
        "\n",
        "arr = np.array([[0, 2, 3],\n",
        "                [1, 0, 0], \n",
        "                [-3, 0, 0]])\n",
        "x, y = np.where(arr != 0)\n",
        "print(f\"X indices where there are non-zero elements: {repr(x)}\")\n",
        "print(f\"Y indices where there are non-zeor elements: {repr(y)}\")\n",
        "\n",
        "print(f\"Values at pos: {repr(arr[x, y])}\")"
      ]
    },
    {
      "cell_type": "markdown",
      "metadata": {},
      "source": [
        "**np.where** either takes in 1 or 3 arguments. When 3 arguments are provided, the second argument is what True should be replaced with and the third is what False should be replaced with. "
      ]
    },
    {
      "cell_type": "code",
      "execution_count": 39,
      "metadata": {},
      "outputs": [
        {
          "name": "stdout",
          "output_type": "stream",
          "text": [
            "With three arguments for np.where: array([[ 1, -5],\n",
            "       [-1,  4]])\n",
            "New condition: array([[-2, -5],\n",
            "       [ 3,  4]])\n",
            "Another new condition: array([[-2, -5],\n",
            "       [-1, -8]])\n"
          ]
        }
      ],
      "source": [
        "np_filter = np.array([[True, False], [False, True]])\n",
        "positives = np.array([[1, 2], [3, 4]])\n",
        "negatives = np.array([[-2, -5], [-1, -8]])\n",
        "print(f\"With three arguments for np.where: {repr(np.where(np_filter, positives, negatives))}\")\n",
        "\n",
        "np_filter = positives > 2\n",
        "print(f\"New condition: {repr(np.where(np_filter, positives, negatives))}\")\n",
        "\n",
        "np_filter = negatives > 0\n",
        "print(f\"Another new condition: {repr(np.where(np_filter, positives, negatives))}\")"
      ]
    },
    {
      "cell_type": "markdown",
      "metadata": {},
      "source": [
        "If we want a specified what to be put where a condition is meet, we can incorporate *broadcasting*"
      ]
    },
    {
      "cell_type": "code",
      "execution_count": 40,
      "metadata": {},
      "outputs": [
        {
          "name": "stdout",
          "output_type": "stream",
          "text": [
            "array([[ 1, -1],\n",
            "       [-1,  4]])\n"
          ]
        }
      ],
      "source": [
        "np_filter = np.array([[True, False], [False, True]])\n",
        "positives = np.array([[1, 2], [3, 4]])\n",
        "print(repr(np.where(np_filter, positives, -1)))"
      ]
    },
    {
      "cell_type": "markdown",
      "metadata": {},
      "source": [
        "There is also **axis-wise filtering** where we use **np.any** or **np.all** functions, which take boolean arrays."
      ]
    },
    {
      "cell_type": "code",
      "execution_count": 41,
      "metadata": {},
      "outputs": [
        {
          "name": "stdout",
          "output_type": "stream",
          "text": [
            "Filter array: array([[False, False, False],\n",
            "       [ True,  True, False],\n",
            "       [ True,  True,  True]])\n",
            "Any > 0: True\n",
            "All > 0: False\n"
          ]
        }
      ],
      "source": [
        "arr = np.array([[-2, -1, -3],\n",
        "                [4, 5, -6], \n",
        "                [3, 9, 1]])\n",
        "print(f\"Filter array: {repr(arr > 0)}\")\n",
        "print(f\"Any > 0: {np.any(arr > 0)}\")\n",
        "print(f\"All > 0: {np.all(arr > 0)}\")"
      ]
    },
    {
      "cell_type": "markdown",
      "metadata": {},
      "source": [
        "If a multidimensional array is given as input, we can specify the *axis* value. Note that the returned value in this case is an array. *axis=0* means the first dimension and *axis=1* means the second dimension."
      ]
    },
    {
      "cell_type": "code",
      "execution_count": 42,
      "metadata": {},
      "outputs": [
        {
          "name": "stdout",
          "output_type": "stream",
          "text": [
            "arr > 0: array([[False, False, False],\n",
            "       [ True,  True,  True],\n",
            "       [ True,  True,  True]])\n",
            "Any on axis 0: array([ True,  True,  True])\n",
            "Any on axis 1: array([False,  True,  True])\n",
            "All on axis 1: array([False,  True,  True])\n"
          ]
        }
      ],
      "source": [
        "arr = np.array([[-2, -1, -3], \n",
        "                [4, 5, 6],\n",
        "                [3, 9, 1]])\n",
        "print(f\"arr > 0: {repr(arr > 0)}\")\n",
        "# axis = 0 is for column\n",
        "# axis = 1 is for the row\n",
        "print(f\"Any on axis 0: {repr(np.any(arr > 0, axis=0))}\")\n",
        "print(f\"Any on axis 1: {repr(np.any(arr > 0, axis=1))}\")\n",
        "print(f\"All on axis 1: {repr(np.all(arr > 0, axis=1))}\")"
      ]
    },
    {
      "cell_type": "code",
      "execution_count": 43,
      "metadata": {},
      "outputs": [
        {
          "name": "stdout",
          "output_type": "stream",
          "text": [
            "[False  True  True]\n",
            "Any in tandem with np.where: array([[4, 5, 6],\n",
            "       [3, 9, 1]])\n"
          ]
        }
      ],
      "source": [
        "has_positive = np.any(arr > 0, axis = 1)\n",
        "print(has_positive)\n",
        "print(f\"Any in tandem with np.where: {repr(arr[np.where(has_positive)])}\")"
      ]
    },
    {
      "cell_type": "markdown",
      "metadata": {},
      "source": [
        "## Statistics"
      ]
    },
    {
      "cell_type": "markdown",
      "metadata": {},
      "source": [
        "We use *min* and *max* to find the minimum and maximum in arrays. It's possible to provide axis to represent the dimension to look at."
      ]
    },
    {
      "cell_type": "code",
      "execution_count": 44,
      "metadata": {},
      "outputs": [
        {
          "name": "stdout",
          "output_type": "stream",
          "text": [
            "Min in 2D array: -60\n",
            "Max in 2D array: 72\n",
            "Min in each column: array([ -3,  -2, -60])\n",
            "Max in each row: array([72,  3,  4])\n"
          ]
        }
      ],
      "source": [
        "arr = np.array([[0, 72, 3],\n",
        "                [1, 3, -60],\n",
        "                [-3, -2, 4]])\n",
        "print(f\"Min in 2D array: {repr(arr.min())}\")\n",
        "print(f\"Max in 2D array: {repr(arr.max())}\")\n",
        "\n",
        "print(f\"Min in each column: {repr(arr.min(axis=0))}\")\n",
        "print(f\"Max in each row: {repr(arr.max(axis=-1))}\")"
      ]
    },
    {
      "cell_type": "markdown",
      "metadata": {},
      "source": [
        "Statistical metrics such as **np.mean**, **np.var**, and **np.median** are used to calculate the mean, variance, and median of the data."
      ]
    },
    {
      "cell_type": "code",
      "execution_count": 45,
      "metadata": {},
      "outputs": [
        {
          "name": "stdout",
          "output_type": "stream",
          "text": [
            "Mean of the arr: 2.0\n",
            "Variance of the arr: 977.3333333333334\n",
            "Median of the data: 1.0\n",
            "Median across each row: array([ 3.,  1., -2.])\n"
          ]
        }
      ],
      "source": [
        "print(f\"Mean of the arr: {repr(np.mean(arr))}\")\n",
        "print(f\"Variance of the arr: {repr(np.var(arr))}\")\n",
        "print(f\"Median of the data: {repr(np.median(arr))}\")\n",
        "\n",
        "print(f\"Median across each row: {repr(np.median(arr, axis=-1))}\")"
      ]
    },
    {
      "cell_type": "markdown",
      "metadata": {},
      "source": [
        "## Aggregation"
      ]
    },
    {
      "cell_type": "markdown",
      "metadata": {},
      "source": [
        "Similar to Python module, Numpy has **np.sum** to sum the values within an array"
      ]
    },
    {
      "cell_type": "code",
      "execution_count": 48,
      "metadata": {},
      "outputs": [
        {
          "name": "stdout",
          "output_type": "stream",
          "text": [
            "Sum of all values in arr: 18\n",
            "Sum of values in each column: array([ -2,  73, -53])\n",
            "Sum of values in each row: array([ 75, -56,  -1])\n"
          ]
        }
      ],
      "source": [
        "print(f\"Sum of all values in arr: {repr(np.sum(arr))}\")\n",
        "print(f\"Sum of values in each column: {repr(np.sum(arr, axis=0))}\")\n",
        "print(f\"Sum of values in each row: {repr(np.sum(arr, axis=1))}\")"
      ]
    },
    {
      "cell_type": "markdown",
      "metadata": {},
      "source": [
        "There is also **np.cumsum** that returns the cumulative sums for the (flattened) array, if no further argument is provided. There is the option to provide axis to specify which dimension to find the cumulative sum on."
      ]
    },
    {
      "cell_type": "code",
      "execution_count": 50,
      "metadata": {},
      "outputs": [
        {
          "name": "stdout",
          "output_type": "stream",
          "text": [
            "Cumulative sum of the flattend array: array([ 0, 72, 75, 76, 79, 19, 16, 14, 18])\n",
            "Cumulative sum of each column: array([[  0,  72,   3],\n",
            "       [  1,  75, -57],\n",
            "       [ -2,  73, -53]])\n",
            "Cumulative sum of each row: array([[  0,  72,  75],\n",
            "       [  1,   4, -56],\n",
            "       [ -3,  -5,  -1]])\n"
          ]
        }
      ],
      "source": [
        "arr = np.array([[0, 72, 3], \n",
        "                [1, 3, -60],\n",
        "                [-3, -2, 4]])\n",
        "print(f\"Cumulative sum of the flattend array: {repr(np.cumsum(arr))}\")\n",
        "print(f\"Cumulative sum of each column: {repr(np.cumsum(arr, axis=0))}\")\n",
        "print(f\"Cumulative sum of each row: {repr(np.cumsum(arr, axis=1))}\")"
      ]
    },
    {
      "cell_type": "markdown",
      "metadata": {},
      "source": [
        "There is the possibility to combine multiple datasets using **np.concatenate**. It uses the *axis* keyword argument, but if no argument for axis is provided, *0* is used. "
      ]
    },
    {
      "cell_type": "code",
      "execution_count": 57,
      "metadata": {},
      "outputs": [
        {
          "name": "stdout",
          "output_type": "stream",
          "text": [
            "Combine the two arrays into one by extending the rows: array([[  0,  72,   3],\n",
            "       [  1,   3, -60],\n",
            "       [ -3,  -2,   4],\n",
            "       [-15,   6,   1],\n",
            "       [  8,   9,  -4],\n",
            "       [  5, -21,  18]])\n",
            "Combine the two arrays into one by extending the columns: array([[  0,  72,   3, -15,   6,   1],\n",
            "       [  1,   3, -60,   8,   9,  -4],\n",
            "       [ -3,  -2,   4,   5, -21,  18]])\n"
          ]
        }
      ],
      "source": [
        "arr1 = np.array([[0, 72, 3],\n",
        "                 [1, 3, -60],\n",
        "                 [-3, -2, 4]])\n",
        "arr2 = np.array([[-15, 6, 1],\n",
        "                 [8, 9, -4], \n",
        "                 [5, -21, 18]])\n",
        "print(f\"Combine the two arrays into one by extending the rows: {repr(np.concatenate([arr1, arr2]))}\")\n",
        "print(f\"Combine the two arrays into one by extending the columns: {repr(np.concatenate([arr1, arr2], axis=1))}\")"
      ]
    },
    {
      "cell_type": "markdown",
      "metadata": {},
      "source": [
        "## Saving\n"
      ]
    },
    {
      "cell_type": "markdown",
      "metadata": {},
      "source": [
        "It is a good practice to save data in a file for future use. To do this, **np.save** is used."
      ]
    },
    {
      "cell_type": "code",
      "execution_count": 58,
      "metadata": {},
      "outputs": [],
      "source": [
        "arr = np.arange(1000)\n",
        "np.save(\"arr.npy\", arr)\n",
        "np.save(\"arr\", arr)"
      ]
    },
    {
      "cell_type": "markdown",
      "metadata": {},
      "source": [
        "## Loading saved file"
      ]
    },
    {
      "cell_type": "markdown",
      "metadata": {},
      "source": [
        "**np.load** is used to load data from a directory. "
      ]
    },
    {
      "cell_type": "code",
      "execution_count": 59,
      "metadata": {},
      "outputs": [
        {
          "name": "stdout",
          "output_type": "stream",
          "text": [
            "Loaded data: array([  0,   1,   2,   3,   4,   5,   6,   7,   8,   9,  10,  11,  12,\n",
            "        13,  14,  15,  16,  17,  18,  19,  20,  21,  22,  23,  24,  25,\n",
            "        26,  27,  28,  29,  30,  31,  32,  33,  34,  35,  36,  37,  38,\n",
            "        39,  40,  41,  42,  43,  44,  45,  46,  47,  48,  49,  50,  51,\n",
            "        52,  53,  54,  55,  56,  57,  58,  59,  60,  61,  62,  63,  64,\n",
            "        65,  66,  67,  68,  69,  70,  71,  72,  73,  74,  75,  76,  77,\n",
            "        78,  79,  80,  81,  82,  83,  84,  85,  86,  87,  88,  89,  90,\n",
            "        91,  92,  93,  94,  95,  96,  97,  98,  99, 100, 101, 102, 103,\n",
            "       104, 105, 106, 107, 108, 109, 110, 111, 112, 113, 114, 115, 116,\n",
            "       117, 118, 119, 120, 121, 122, 123, 124, 125, 126, 127, 128, 129,\n",
            "       130, 131, 132, 133, 134, 135, 136, 137, 138, 139, 140, 141, 142,\n",
            "       143, 144, 145, 146, 147, 148, 149, 150, 151, 152, 153, 154, 155,\n",
            "       156, 157, 158, 159, 160, 161, 162, 163, 164, 165, 166, 167, 168,\n",
            "       169, 170, 171, 172, 173, 174, 175, 176, 177, 178, 179, 180, 181,\n",
            "       182, 183, 184, 185, 186, 187, 188, 189, 190, 191, 192, 193, 194,\n",
            "       195, 196, 197, 198, 199, 200, 201, 202, 203, 204, 205, 206, 207,\n",
            "       208, 209, 210, 211, 212, 213, 214, 215, 216, 217, 218, 219, 220,\n",
            "       221, 222, 223, 224, 225, 226, 227, 228, 229, 230, 231, 232, 233,\n",
            "       234, 235, 236, 237, 238, 239, 240, 241, 242, 243, 244, 245, 246,\n",
            "       247, 248, 249, 250, 251, 252, 253, 254, 255, 256, 257, 258, 259,\n",
            "       260, 261, 262, 263, 264, 265, 266, 267, 268, 269, 270, 271, 272,\n",
            "       273, 274, 275, 276, 277, 278, 279, 280, 281, 282, 283, 284, 285,\n",
            "       286, 287, 288, 289, 290, 291, 292, 293, 294, 295, 296, 297, 298,\n",
            "       299, 300, 301, 302, 303, 304, 305, 306, 307, 308, 309, 310, 311,\n",
            "       312, 313, 314, 315, 316, 317, 318, 319, 320, 321, 322, 323, 324,\n",
            "       325, 326, 327, 328, 329, 330, 331, 332, 333, 334, 335, 336, 337,\n",
            "       338, 339, 340, 341, 342, 343, 344, 345, 346, 347, 348, 349, 350,\n",
            "       351, 352, 353, 354, 355, 356, 357, 358, 359, 360, 361, 362, 363,\n",
            "       364, 365, 366, 367, 368, 369, 370, 371, 372, 373, 374, 375, 376,\n",
            "       377, 378, 379, 380, 381, 382, 383, 384, 385, 386, 387, 388, 389,\n",
            "       390, 391, 392, 393, 394, 395, 396, 397, 398, 399, 400, 401, 402,\n",
            "       403, 404, 405, 406, 407, 408, 409, 410, 411, 412, 413, 414, 415,\n",
            "       416, 417, 418, 419, 420, 421, 422, 423, 424, 425, 426, 427, 428,\n",
            "       429, 430, 431, 432, 433, 434, 435, 436, 437, 438, 439, 440, 441,\n",
            "       442, 443, 444, 445, 446, 447, 448, 449, 450, 451, 452, 453, 454,\n",
            "       455, 456, 457, 458, 459, 460, 461, 462, 463, 464, 465, 466, 467,\n",
            "       468, 469, 470, 471, 472, 473, 474, 475, 476, 477, 478, 479, 480,\n",
            "       481, 482, 483, 484, 485, 486, 487, 488, 489, 490, 491, 492, 493,\n",
            "       494, 495, 496, 497, 498, 499, 500, 501, 502, 503, 504, 505, 506,\n",
            "       507, 508, 509, 510, 511, 512, 513, 514, 515, 516, 517, 518, 519,\n",
            "       520, 521, 522, 523, 524, 525, 526, 527, 528, 529, 530, 531, 532,\n",
            "       533, 534, 535, 536, 537, 538, 539, 540, 541, 542, 543, 544, 545,\n",
            "       546, 547, 548, 549, 550, 551, 552, 553, 554, 555, 556, 557, 558,\n",
            "       559, 560, 561, 562, 563, 564, 565, 566, 567, 568, 569, 570, 571,\n",
            "       572, 573, 574, 575, 576, 577, 578, 579, 580, 581, 582, 583, 584,\n",
            "       585, 586, 587, 588, 589, 590, 591, 592, 593, 594, 595, 596, 597,\n",
            "       598, 599, 600, 601, 602, 603, 604, 605, 606, 607, 608, 609, 610,\n",
            "       611, 612, 613, 614, 615, 616, 617, 618, 619, 620, 621, 622, 623,\n",
            "       624, 625, 626, 627, 628, 629, 630, 631, 632, 633, 634, 635, 636,\n",
            "       637, 638, 639, 640, 641, 642, 643, 644, 645, 646, 647, 648, 649,\n",
            "       650, 651, 652, 653, 654, 655, 656, 657, 658, 659, 660, 661, 662,\n",
            "       663, 664, 665, 666, 667, 668, 669, 670, 671, 672, 673, 674, 675,\n",
            "       676, 677, 678, 679, 680, 681, 682, 683, 684, 685, 686, 687, 688,\n",
            "       689, 690, 691, 692, 693, 694, 695, 696, 697, 698, 699, 700, 701,\n",
            "       702, 703, 704, 705, 706, 707, 708, 709, 710, 711, 712, 713, 714,\n",
            "       715, 716, 717, 718, 719, 720, 721, 722, 723, 724, 725, 726, 727,\n",
            "       728, 729, 730, 731, 732, 733, 734, 735, 736, 737, 738, 739, 740,\n",
            "       741, 742, 743, 744, 745, 746, 747, 748, 749, 750, 751, 752, 753,\n",
            "       754, 755, 756, 757, 758, 759, 760, 761, 762, 763, 764, 765, 766,\n",
            "       767, 768, 769, 770, 771, 772, 773, 774, 775, 776, 777, 778, 779,\n",
            "       780, 781, 782, 783, 784, 785, 786, 787, 788, 789, 790, 791, 792,\n",
            "       793, 794, 795, 796, 797, 798, 799, 800, 801, 802, 803, 804, 805,\n",
            "       806, 807, 808, 809, 810, 811, 812, 813, 814, 815, 816, 817, 818,\n",
            "       819, 820, 821, 822, 823, 824, 825, 826, 827, 828, 829, 830, 831,\n",
            "       832, 833, 834, 835, 836, 837, 838, 839, 840, 841, 842, 843, 844,\n",
            "       845, 846, 847, 848, 849, 850, 851, 852, 853, 854, 855, 856, 857,\n",
            "       858, 859, 860, 861, 862, 863, 864, 865, 866, 867, 868, 869, 870,\n",
            "       871, 872, 873, 874, 875, 876, 877, 878, 879, 880, 881, 882, 883,\n",
            "       884, 885, 886, 887, 888, 889, 890, 891, 892, 893, 894, 895, 896,\n",
            "       897, 898, 899, 900, 901, 902, 903, 904, 905, 906, 907, 908, 909,\n",
            "       910, 911, 912, 913, 914, 915, 916, 917, 918, 919, 920, 921, 922,\n",
            "       923, 924, 925, 926, 927, 928, 929, 930, 931, 932, 933, 934, 935,\n",
            "       936, 937, 938, 939, 940, 941, 942, 943, 944, 945, 946, 947, 948,\n",
            "       949, 950, 951, 952, 953, 954, 955, 956, 957, 958, 959, 960, 961,\n",
            "       962, 963, 964, 965, 966, 967, 968, 969, 970, 971, 972, 973, 974,\n",
            "       975, 976, 977, 978, 979, 980, 981, 982, 983, 984, 985, 986, 987,\n",
            "       988, 989, 990, 991, 992, 993, 994, 995, 996, 997, 998, 999])\n"
          ]
        }
      ],
      "source": [
        "load_arr = np.load(\"arr.npy\")\n",
        "print(f\"Loaded data: {repr(load_arr)}\")"
      ]
    },
    {
      "cell_type": "code",
      "execution_count": null,
      "metadata": {},
      "outputs": [],
      "source": []
    }
  ],
  "metadata": {
    "kernelspec": {
      "display_name": "Python 3",
      "language": "python",
      "name": "python3"
    },
    "language_info": {
      "codemirror_mode": {
        "name": "ipython",
        "version": 3
      },
      "file_extension": ".py",
      "mimetype": "text/x-python",
      "name": "python",
      "nbconvert_exporter": "python",
      "pygments_lexer": "ipython3",
      "version": "3.11.5"
    }
  },
  "nbformat": 4,
  "nbformat_minor": 4
}
